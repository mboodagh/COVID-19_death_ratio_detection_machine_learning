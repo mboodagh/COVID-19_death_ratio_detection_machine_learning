{
  "nbformat": 4,
  "nbformat_minor": 0,
  "metadata": {
    "colab": {
      "name": "COVID_19_death_ratio.ipynb",
      "provenance": [],
      "collapsed_sections": []
    },
    "kernelspec": {
      "display_name": "Python 3",
      "name": "python3"
    }
  },
  "cells": [
    {
      "cell_type": "markdown",
      "metadata": {
        "id": "scaYNraPOLzh"
      },
      "source": [
        "Whether the extent to which an individual is exposed to the COVID_19 directly correlates with the severity of the symptoms remains controversial. In the current notebook, we will investigate whether reducing the exposure to COVID-19  by wearing a mask can reduce the symptoms and thereby leading to lower death.  In doing so, we will set the ratio of monthly average deaths to monthly average cases as our parameters of interest and we call it the death ratio.\n",
        "<br>\n",
        "We will identify the effective date of the executive orders by the governors that required mask mandate at Pacific Coast states in the U.S and calculate the average death ratio one month before and after the order. Then we will calculate the amount of variation in the death ratio following the mask mandate order. We will categorize the variation based on its sign to quantify whether the death ratio increases, decreases, or remains the same.\n",
        "<br>\n",
        "In order to have a comparison between states, we will use the population to compare different counties irrespective of their states. Moreover, we believe the extent to which people abide by the mask mandate order might be correlated with their income and political inclination in different counties. We also add their mask usage according to a New York Times survey as the last feature.\n",
        "<br>\n",
        "Finally, we will try to establish an AI-based relationship between population, income, mask usage, and variation in the death ratio. The step by step process is as the followings: \n",
        "\n",
        "\n",
        "*   Find the Mask Mandate (MM) order's effective date for the states of interest.\n",
        "*   Find the COIVD-19 data daily cases and deaths data for a month before and after the MM order.\n",
        "*   Find the population, income, and mask usage data for the states of interest at the county level.\n",
        "*     Read the data using Pandas.\n",
        "*     Categorize the data based on the sign of the variation in the death ratio.\n",
        "*    Use 9 different classification algorithms to train data and predict the variations in the death ratio based on the aforementioned features.\n",
        "\n"
      ]
    },
    {
      "cell_type": "code",
      "metadata": {
        "colab": {
          "base_uri": "https://localhost:8080/"
        },
        "id": "nmWj4ULV_PEi",
        "outputId": "5b339ad6-5131-4946-8cf3-c7cdfdf00742"
      },
      "source": [
        "!pip install scikit-plot"
      ],
      "execution_count": null,
      "outputs": [
        {
          "name": "stdout",
          "output_type": "stream",
          "text": [
            "Collecting scikit-plot\n",
            "  Downloading scikit_plot-0.3.7-py3-none-any.whl (33 kB)\n",
            "Requirement already satisfied: scikit-learn>=0.18 in /usr/local/lib/python3.7/dist-packages (from scikit-plot) (1.0.1)\n",
            "Requirement already satisfied: joblib>=0.10 in /usr/local/lib/python3.7/dist-packages (from scikit-plot) (1.1.0)\n",
            "Requirement already satisfied: scipy>=0.9 in /usr/local/lib/python3.7/dist-packages (from scikit-plot) (1.4.1)\n",
            "Requirement already satisfied: matplotlib>=1.4.0 in /usr/local/lib/python3.7/dist-packages (from scikit-plot) (3.2.2)\n",
            "Requirement already satisfied: pyparsing!=2.0.4,!=2.1.2,!=2.1.6,>=2.0.1 in /usr/local/lib/python3.7/dist-packages (from matplotlib>=1.4.0->scikit-plot) (3.0.6)\n",
            "Requirement already satisfied: kiwisolver>=1.0.1 in /usr/local/lib/python3.7/dist-packages (from matplotlib>=1.4.0->scikit-plot) (1.3.2)\n",
            "Requirement already satisfied: python-dateutil>=2.1 in /usr/local/lib/python3.7/dist-packages (from matplotlib>=1.4.0->scikit-plot) (2.8.2)\n",
            "Requirement already satisfied: numpy>=1.11 in /usr/local/lib/python3.7/dist-packages (from matplotlib>=1.4.0->scikit-plot) (1.19.5)\n",
            "Requirement already satisfied: cycler>=0.10 in /usr/local/lib/python3.7/dist-packages (from matplotlib>=1.4.0->scikit-plot) (0.11.0)\n",
            "Requirement already satisfied: six>=1.5 in /usr/local/lib/python3.7/dist-packages (from python-dateutil>=2.1->matplotlib>=1.4.0->scikit-plot) (1.15.0)\n",
            "Requirement already satisfied: threadpoolctl>=2.0.0 in /usr/local/lib/python3.7/dist-packages (from scikit-learn>=0.18->scikit-plot) (3.0.0)\n",
            "Installing collected packages: scikit-plot\n",
            "Successfully installed scikit-plot-0.3.7\n"
          ]
        }
      ]
    },
    {
      "cell_type": "code",
      "metadata": {
        "id": "NlqEkC2uh_Km"
      },
      "source": [
        "#import the necessary libraries\n",
        "import pandas as pd\n",
        "import numpy as np\n",
        "import matplotlib.pyplot as plt\n",
        "import sklearn\n",
        "import seaborn as sns\n",
        "import time     # this library provides various time related functions like current time, date etc."
      ],
      "execution_count": null,
      "outputs": []
    },
    {
      "cell_type": "code",
      "metadata": {
        "colab": {
          "base_uri": "https://localhost:8080/"
        },
        "id": "IeZUBsr6f7Lx",
        "outputId": "946fa45d-7e1f-4097-d849-e7c4fdf7ece8"
      },
      "source": [
        "from google.colab import drive\n",
        "drive.mount('/content/drive')"
      ],
      "execution_count": null,
      "outputs": [
        {
          "name": "stdout",
          "output_type": "stream",
          "text": [
            "Mounted at /content/drive\n"
          ]
        }
      ]
    },
    {
      "cell_type": "code",
      "metadata": {
        "id": "j-Xdaxvziu9R"
      },
      "source": [
        "#Read the initial data for different states\n",
        "data_CA=pd.read_csv(\"/content/drive/MyDrive/COVID_project_github/Data_California_copy.csv\")#California\n",
        "data_WA=pd.read_csv(\"/content/drive/MyDrive/COVID_project_github/Data_Washington_copy.csv\")#Washington\n",
        "data_OR=pd.read_csv(\"/content/drive/MyDrive/COVID_project_github/Data_Oregon_copy.csv\")#Oregon\n",
        "dc=[data_WA, data_OR, data_CA]\n",
        "data_tot=pd.concat(dc,ignore_index=True)# Merge datas of different states\n",
        "data_tot.sort_values('County',inplace=True)# Sort alphabetically\n",
        "data_tot.reset_index(inplace=True,drop=True)# reset the indexing\n",
        "from pandas.api.types import CategoricalDtype # import module required to make a categorical data\n",
        "status_type = CategoricalDtype(categories=['increase', 'decrease','no change'], ordered=True) #define your items as categories\n",
        "data_tot['status of the change'] = data_tot['status of the change'].astype(status_type)\n",
        "data_tot_copy = data_tot.copy(deep=True)"
      ],
      "execution_count": null,
      "outputs": []
    },
    {
      "cell_type": "code",
      "metadata": {
        "colab": {
          "base_uri": "https://localhost:8080/"
        },
        "id": "pb88xy9ZIDVR",
        "outputId": "7f212f49-3082-41bc-fe01-6a8f0ab99a3c"
      },
      "source": [
        "data_tot.dtypes"
      ],
      "execution_count": null,
      "outputs": [
        {
          "data": {
            "text/plain": [
              "County                                             object\n",
              "Population                                          int64\n",
              "Area (sq km)                                      float64\n",
              "Population density (person/km^2)                  float64\n",
              "High school percentage                            float64\n",
              "Persons per household                             float64\n",
              "Persons in poverty percentage                     float64\n",
              "Median income                                       int64\n",
              "Never                                             float64\n",
              "Rarely                                            float64\n",
              "Sometimes                                         float64\n",
              "Frequently                                        float64\n",
              "Always                                            float64\n",
              "1_months_before_order deaths/cases percentage     float64\n",
              "1_months_after_order deaths/cases percentage      float64\n",
              "change in deaths/cases percentage                 float64\n",
              "status of the change                             category\n",
              "dtype: object"
            ]
          },
          "execution_count": 6,
          "metadata": {},
          "output_type": "execute_result"
        }
      ]
    },
    {
      "cell_type": "code",
      "metadata": {
        "colab": {
          "base_uri": "https://localhost:8080/",
          "height": 355
        },
        "id": "xdkq1GikMTE4",
        "outputId": "ea153382-1790-4f6b-8947-8b66804580f6"
      },
      "source": [
        "data_tot.describe()"
      ],
      "execution_count": null,
      "outputs": [
        {
          "data": {
            "text/html": [
              "<div>\n",
              "<style scoped>\n",
              "    .dataframe tbody tr th:only-of-type {\n",
              "        vertical-align: middle;\n",
              "    }\n",
              "\n",
              "    .dataframe tbody tr th {\n",
              "        vertical-align: top;\n",
              "    }\n",
              "\n",
              "    .dataframe thead th {\n",
              "        text-align: right;\n",
              "    }\n",
              "</style>\n",
              "<table border=\"1\" class=\"dataframe\">\n",
              "  <thead>\n",
              "    <tr style=\"text-align: right;\">\n",
              "      <th></th>\n",
              "      <th>Population</th>\n",
              "      <th>Area (sq km)</th>\n",
              "      <th>Population density (person/km^2)</th>\n",
              "      <th>High school percentage</th>\n",
              "      <th>Persons per household</th>\n",
              "      <th>Persons in poverty percentage</th>\n",
              "      <th>Median income</th>\n",
              "      <th>Never</th>\n",
              "      <th>Rarely</th>\n",
              "      <th>Sometimes</th>\n",
              "      <th>Frequently</th>\n",
              "      <th>Always</th>\n",
              "      <th>1_months_before_order deaths/cases percentage</th>\n",
              "      <th>1_months_after_order deaths/cases percentage</th>\n",
              "      <th>change in deaths/cases percentage</th>\n",
              "    </tr>\n",
              "  </thead>\n",
              "  <tbody>\n",
              "    <tr>\n",
              "      <th>count</th>\n",
              "      <td>1.300000e+02</td>\n",
              "      <td>130.000000</td>\n",
              "      <td>130.000000</td>\n",
              "      <td>130.000000</td>\n",
              "      <td>130.000000</td>\n",
              "      <td>130.000000</td>\n",
              "      <td>130.000000</td>\n",
              "      <td>130.000000</td>\n",
              "      <td>130.000000</td>\n",
              "      <td>130.000000</td>\n",
              "      <td>130.000000</td>\n",
              "      <td>130.000000</td>\n",
              "      <td>130.000000</td>\n",
              "      <td>130.000000</td>\n",
              "      <td>130.000000</td>\n",
              "    </tr>\n",
              "    <tr>\n",
              "      <th>mean</th>\n",
              "      <td>3.903071e+05</td>\n",
              "      <td>6275.789030</td>\n",
              "      <td>150.642998</td>\n",
              "      <td>87.054615</td>\n",
              "      <td>2.608308</td>\n",
              "      <td>12.916923</td>\n",
              "      <td>61403.500000</td>\n",
              "      <td>0.035331</td>\n",
              "      <td>0.038262</td>\n",
              "      <td>0.071508</td>\n",
              "      <td>0.174492</td>\n",
              "      <td>0.680292</td>\n",
              "      <td>0.994753</td>\n",
              "      <td>0.715021</td>\n",
              "      <td>-0.279733</td>\n",
              "    </tr>\n",
              "    <tr>\n",
              "      <th>std</th>\n",
              "      <td>1.037801e+06</td>\n",
              "      <td>6525.471194</td>\n",
              "      <td>664.180979</td>\n",
              "      <td>6.576740</td>\n",
              "      <td>0.363344</td>\n",
              "      <td>3.619438</td>\n",
              "      <td>16712.599359</td>\n",
              "      <td>0.028952</td>\n",
              "      <td>0.034571</td>\n",
              "      <td>0.037053</td>\n",
              "      <td>0.054979</td>\n",
              "      <td>0.096594</td>\n",
              "      <td>1.840788</td>\n",
              "      <td>1.227060</td>\n",
              "      <td>2.184181</td>\n",
              "    </tr>\n",
              "    <tr>\n",
              "      <th>min</th>\n",
              "      <td>1.129000e+03</td>\n",
              "      <td>121.392831</td>\n",
              "      <td>0.274595</td>\n",
              "      <td>66.900000</td>\n",
              "      <td>2.030000</td>\n",
              "      <td>6.100000</td>\n",
              "      <td>37898.000000</td>\n",
              "      <td>0.001000</td>\n",
              "      <td>0.000000</td>\n",
              "      <td>0.004000</td>\n",
              "      <td>0.058000</td>\n",
              "      <td>0.305000</td>\n",
              "      <td>0.000000</td>\n",
              "      <td>0.000000</td>\n",
              "      <td>-12.903226</td>\n",
              "    </tr>\n",
              "    <tr>\n",
              "      <th>25%</th>\n",
              "      <td>2.446750e+04</td>\n",
              "      <td>2487.452296</td>\n",
              "      <td>5.166023</td>\n",
              "      <td>84.575000</td>\n",
              "      <td>2.342500</td>\n",
              "      <td>10.600000</td>\n",
              "      <td>51109.250000</td>\n",
              "      <td>0.016000</td>\n",
              "      <td>0.014000</td>\n",
              "      <td>0.048000</td>\n",
              "      <td>0.141500</td>\n",
              "      <td>0.615250</td>\n",
              "      <td>0.000000</td>\n",
              "      <td>0.000000</td>\n",
              "      <td>-0.775084</td>\n",
              "    </tr>\n",
              "    <tr>\n",
              "      <th>50%</th>\n",
              "      <td>7.830900e+04</td>\n",
              "      <td>4462.552770</td>\n",
              "      <td>18.625742</td>\n",
              "      <td>89.250000</td>\n",
              "      <td>2.515000</td>\n",
              "      <td>12.650000</td>\n",
              "      <td>55952.000000</td>\n",
              "      <td>0.026000</td>\n",
              "      <td>0.028000</td>\n",
              "      <td>0.069000</td>\n",
              "      <td>0.168500</td>\n",
              "      <td>0.679500</td>\n",
              "      <td>0.000000</td>\n",
              "      <td>0.343842</td>\n",
              "      <td>0.000000</td>\n",
              "    </tr>\n",
              "    <tr>\n",
              "      <th>75%</th>\n",
              "      <td>2.817532e+05</td>\n",
              "      <td>7698.557501</td>\n",
              "      <td>61.052002</td>\n",
              "      <td>91.475000</td>\n",
              "      <td>2.810000</td>\n",
              "      <td>15.175000</td>\n",
              "      <td>67022.250000</td>\n",
              "      <td>0.045000</td>\n",
              "      <td>0.056750</td>\n",
              "      <td>0.090500</td>\n",
              "      <td>0.204000</td>\n",
              "      <td>0.753750</td>\n",
              "      <td>1.586655</td>\n",
              "      <td>1.010384</td>\n",
              "      <td>0.000000</td>\n",
              "    </tr>\n",
              "    <tr>\n",
              "      <th>max</th>\n",
              "      <td>1.003911e+07</td>\n",
              "      <td>51947.274030</td>\n",
              "      <td>7261.952708</td>\n",
              "      <td>95.900000</td>\n",
              "      <td>3.870000</td>\n",
              "      <td>26.300000</td>\n",
              "      <td>124055.000000</td>\n",
              "      <td>0.140000</td>\n",
              "      <td>0.206000</td>\n",
              "      <td>0.213000</td>\n",
              "      <td>0.332000</td>\n",
              "      <td>0.889000</td>\n",
              "      <td>12.903226</td>\n",
              "      <td>7.692308</td>\n",
              "      <td>7.692308</td>\n",
              "    </tr>\n",
              "  </tbody>\n",
              "</table>\n",
              "</div>"
            ],
            "text/plain": [
              "         Population  ...  change in deaths/cases percentage\n",
              "count  1.300000e+02  ...                         130.000000\n",
              "mean   3.903071e+05  ...                          -0.279733\n",
              "std    1.037801e+06  ...                           2.184181\n",
              "min    1.129000e+03  ...                         -12.903226\n",
              "25%    2.446750e+04  ...                          -0.775084\n",
              "50%    7.830900e+04  ...                           0.000000\n",
              "75%    2.817532e+05  ...                           0.000000\n",
              "max    1.003911e+07  ...                           7.692308\n",
              "\n",
              "[8 rows x 15 columns]"
            ]
          },
          "execution_count": 7,
          "metadata": {},
          "output_type": "execute_result"
        }
      ]
    },
    {
      "cell_type": "code",
      "metadata": {
        "colab": {
          "base_uri": "https://localhost:8080/",
          "height": 348
        },
        "id": "ObF7JpcCdIGh",
        "outputId": "132b5ff2-2022-4148-d142-0593edc4fad9"
      },
      "source": [
        "#Drop the rows with no change in their status of the change\n",
        "data_tot.drop(data_tot.loc[data_tot['status of the change']=='no change'].index, inplace=True)\n",
        "data_tot.head(5)"
      ],
      "execution_count": null,
      "outputs": [
        {
          "data": {
            "text/html": [
              "<div>\n",
              "<style scoped>\n",
              "    .dataframe tbody tr th:only-of-type {\n",
              "        vertical-align: middle;\n",
              "    }\n",
              "\n",
              "    .dataframe tbody tr th {\n",
              "        vertical-align: top;\n",
              "    }\n",
              "\n",
              "    .dataframe thead th {\n",
              "        text-align: right;\n",
              "    }\n",
              "</style>\n",
              "<table border=\"1\" class=\"dataframe\">\n",
              "  <thead>\n",
              "    <tr style=\"text-align: right;\">\n",
              "      <th></th>\n",
              "      <th>County</th>\n",
              "      <th>Population</th>\n",
              "      <th>Area (sq km)</th>\n",
              "      <th>Population density (person/km^2)</th>\n",
              "      <th>High school percentage</th>\n",
              "      <th>Persons per household</th>\n",
              "      <th>Persons in poverty percentage</th>\n",
              "      <th>Median income</th>\n",
              "      <th>Never</th>\n",
              "      <th>Rarely</th>\n",
              "      <th>Sometimes</th>\n",
              "      <th>Frequently</th>\n",
              "      <th>Always</th>\n",
              "      <th>1_months_before_order deaths/cases percentage</th>\n",
              "      <th>1_months_after_order deaths/cases percentage</th>\n",
              "      <th>change in deaths/cases percentage</th>\n",
              "      <th>status of the change</th>\n",
              "    </tr>\n",
              "  </thead>\n",
              "  <tbody>\n",
              "    <tr>\n",
              "      <th>0</th>\n",
              "      <td>Adams County</td>\n",
              "      <td>19983</td>\n",
              "      <td>4985.730750</td>\n",
              "      <td>4.008038</td>\n",
              "      <td>66.9</td>\n",
              "      <td>3.26</td>\n",
              "      <td>16.8</td>\n",
              "      <td>48294</td>\n",
              "      <td>0.077</td>\n",
              "      <td>0.051</td>\n",
              "      <td>0.072</td>\n",
              "      <td>0.076</td>\n",
              "      <td>0.724</td>\n",
              "      <td>0.000000</td>\n",
              "      <td>0.431034</td>\n",
              "      <td>0.431034</td>\n",
              "      <td>increase</td>\n",
              "    </tr>\n",
              "    <tr>\n",
              "      <th>1</th>\n",
              "      <td>Alameda County</td>\n",
              "      <td>1671329</td>\n",
              "      <td>1914.054410</td>\n",
              "      <td>873.187821</td>\n",
              "      <td>88.4</td>\n",
              "      <td>2.81</td>\n",
              "      <td>8.9</td>\n",
              "      <td>99406</td>\n",
              "      <td>0.019</td>\n",
              "      <td>0.008</td>\n",
              "      <td>0.055</td>\n",
              "      <td>0.123</td>\n",
              "      <td>0.795</td>\n",
              "      <td>1.541336</td>\n",
              "      <td>1.040462</td>\n",
              "      <td>-0.500873</td>\n",
              "      <td>decrease</td>\n",
              "    </tr>\n",
              "    <tr>\n",
              "      <th>6</th>\n",
              "      <td>Benton County</td>\n",
              "      <td>93053</td>\n",
              "      <td>1750.833240</td>\n",
              "      <td>53.147837</td>\n",
              "      <td>95.9</td>\n",
              "      <td>2.40</td>\n",
              "      <td>16.5</td>\n",
              "      <td>62077</td>\n",
              "      <td>0.007</td>\n",
              "      <td>0.007</td>\n",
              "      <td>0.059</td>\n",
              "      <td>0.156</td>\n",
              "      <td>0.770</td>\n",
              "      <td>0.000000</td>\n",
              "      <td>1.612903</td>\n",
              "      <td>1.612903</td>\n",
              "      <td>increase</td>\n",
              "    </tr>\n",
              "    <tr>\n",
              "      <th>7</th>\n",
              "      <td>Benton County</td>\n",
              "      <td>204390</td>\n",
              "      <td>4402.983000</td>\n",
              "      <td>46.420802</td>\n",
              "      <td>90.2</td>\n",
              "      <td>2.71</td>\n",
              "      <td>10.6</td>\n",
              "      <td>69023</td>\n",
              "      <td>0.084</td>\n",
              "      <td>0.011</td>\n",
              "      <td>0.064</td>\n",
              "      <td>0.080</td>\n",
              "      <td>0.761</td>\n",
              "      <td>1.877934</td>\n",
              "      <td>1.837769</td>\n",
              "      <td>-0.040165</td>\n",
              "      <td>decrease</td>\n",
              "    </tr>\n",
              "    <tr>\n",
              "      <th>8</th>\n",
              "      <td>Butte County</td>\n",
              "      <td>219186</td>\n",
              "      <td>4238.415035</td>\n",
              "      <td>51.714143</td>\n",
              "      <td>89.2</td>\n",
              "      <td>2.55</td>\n",
              "      <td>16.1</td>\n",
              "      <td>52537</td>\n",
              "      <td>0.015</td>\n",
              "      <td>0.043</td>\n",
              "      <td>0.111</td>\n",
              "      <td>0.204</td>\n",
              "      <td>0.626</td>\n",
              "      <td>1.470588</td>\n",
              "      <td>0.694444</td>\n",
              "      <td>-0.776144</td>\n",
              "      <td>decrease</td>\n",
              "    </tr>\n",
              "  </tbody>\n",
              "</table>\n",
              "</div>"
            ],
            "text/plain": [
              "           County  ...  status of the change\n",
              "0    Adams County  ...              increase\n",
              "1  Alameda County  ...              decrease\n",
              "6   Benton County  ...              increase\n",
              "7   Benton County  ...              decrease\n",
              "8    Butte County  ...              decrease\n",
              "\n",
              "[5 rows x 17 columns]"
            ]
          },
          "execution_count": 8,
          "metadata": {},
          "output_type": "execute_result"
        }
      ]
    },
    {
      "cell_type": "code",
      "metadata": {
        "colab": {
          "base_uri": "https://localhost:8080/",
          "height": 355
        },
        "id": "Pk5ogPOqfPuO",
        "outputId": "ed40ea4f-cfe4-477e-db32-6b19feb544d6"
      },
      "source": [
        "#Drop the row containing a death rate greater than 100%\n",
        "data_tot.drop(data_tot.loc[data_tot[\"1_months_before_order deaths/cases percentage\"] > 100].index, inplace=True)\n",
        "data_tot.describe()"
      ],
      "execution_count": null,
      "outputs": [
        {
          "data": {
            "text/html": [
              "<div>\n",
              "<style scoped>\n",
              "    .dataframe tbody tr th:only-of-type {\n",
              "        vertical-align: middle;\n",
              "    }\n",
              "\n",
              "    .dataframe tbody tr th {\n",
              "        vertical-align: top;\n",
              "    }\n",
              "\n",
              "    .dataframe thead th {\n",
              "        text-align: right;\n",
              "    }\n",
              "</style>\n",
              "<table border=\"1\" class=\"dataframe\">\n",
              "  <thead>\n",
              "    <tr style=\"text-align: right;\">\n",
              "      <th></th>\n",
              "      <th>Population</th>\n",
              "      <th>Area (sq km)</th>\n",
              "      <th>Population density (person/km^2)</th>\n",
              "      <th>High school percentage</th>\n",
              "      <th>Persons per household</th>\n",
              "      <th>Persons in poverty percentage</th>\n",
              "      <th>Median income</th>\n",
              "      <th>Never</th>\n",
              "      <th>Rarely</th>\n",
              "      <th>Sometimes</th>\n",
              "      <th>Frequently</th>\n",
              "      <th>Always</th>\n",
              "      <th>1_months_before_order deaths/cases percentage</th>\n",
              "      <th>1_months_after_order deaths/cases percentage</th>\n",
              "      <th>change in deaths/cases percentage</th>\n",
              "    </tr>\n",
              "  </thead>\n",
              "  <tbody>\n",
              "    <tr>\n",
              "      <th>count</th>\n",
              "      <td>7.700000e+01</td>\n",
              "      <td>77.000000</td>\n",
              "      <td>77.000000</td>\n",
              "      <td>77.000000</td>\n",
              "      <td>77.000000</td>\n",
              "      <td>77.000000</td>\n",
              "      <td>77.000000</td>\n",
              "      <td>77.000000</td>\n",
              "      <td>77.000000</td>\n",
              "      <td>77.000000</td>\n",
              "      <td>77.000000</td>\n",
              "      <td>77.000000</td>\n",
              "      <td>77.000000</td>\n",
              "      <td>77.000000</td>\n",
              "      <td>77.000000</td>\n",
              "    </tr>\n",
              "    <tr>\n",
              "      <th>mean</th>\n",
              "      <td>6.304135e+05</td>\n",
              "      <td>6844.577337</td>\n",
              "      <td>243.934762</td>\n",
              "      <td>85.327273</td>\n",
              "      <td>2.749610</td>\n",
              "      <td>12.550649</td>\n",
              "      <td>66494.233766</td>\n",
              "      <td>0.031104</td>\n",
              "      <td>0.031234</td>\n",
              "      <td>0.064455</td>\n",
              "      <td>0.165260</td>\n",
              "      <td>0.707883</td>\n",
              "      <td>1.679454</td>\n",
              "      <td>1.207178</td>\n",
              "      <td>-0.472276</td>\n",
              "    </tr>\n",
              "    <tr>\n",
              "      <th>std</th>\n",
              "      <td>1.297275e+06</td>\n",
              "      <td>7462.430733</td>\n",
              "      <td>852.183082</td>\n",
              "      <td>7.267169</td>\n",
              "      <td>0.333677</td>\n",
              "      <td>3.712661</td>\n",
              "      <td>18484.921518</td>\n",
              "      <td>0.023733</td>\n",
              "      <td>0.030032</td>\n",
              "      <td>0.033517</td>\n",
              "      <td>0.046248</td>\n",
              "      <td>0.090621</td>\n",
              "      <td>2.141607</td>\n",
              "      <td>1.397765</td>\n",
              "      <td>2.829384</td>\n",
              "    </tr>\n",
              "    <tr>\n",
              "      <th>min</th>\n",
              "      <td>7.208000e+03</td>\n",
              "      <td>121.392831</td>\n",
              "      <td>0.274595</td>\n",
              "      <td>66.900000</td>\n",
              "      <td>2.150000</td>\n",
              "      <td>6.100000</td>\n",
              "      <td>43313.000000</td>\n",
              "      <td>0.001000</td>\n",
              "      <td>0.000000</td>\n",
              "      <td>0.004000</td>\n",
              "      <td>0.069000</td>\n",
              "      <td>0.305000</td>\n",
              "      <td>0.000000</td>\n",
              "      <td>0.000000</td>\n",
              "      <td>-12.903226</td>\n",
              "    </tr>\n",
              "    <tr>\n",
              "      <th>25%</th>\n",
              "      <td>8.608500e+04</td>\n",
              "      <td>2628.036953</td>\n",
              "      <td>15.237220</td>\n",
              "      <td>80.900000</td>\n",
              "      <td>2.470000</td>\n",
              "      <td>9.500000</td>\n",
              "      <td>53105.000000</td>\n",
              "      <td>0.016000</td>\n",
              "      <td>0.013000</td>\n",
              "      <td>0.041000</td>\n",
              "      <td>0.136000</td>\n",
              "      <td>0.666000</td>\n",
              "      <td>0.000000</td>\n",
              "      <td>0.473485</td>\n",
              "      <td>-1.398646</td>\n",
              "    </tr>\n",
              "    <tr>\n",
              "      <th>50%</th>\n",
              "      <td>2.191860e+05</td>\n",
              "      <td>4612.772190</td>\n",
              "      <td>46.420802</td>\n",
              "      <td>88.100000</td>\n",
              "      <td>2.690000</td>\n",
              "      <td>12.600000</td>\n",
              "      <td>62077.000000</td>\n",
              "      <td>0.024000</td>\n",
              "      <td>0.023000</td>\n",
              "      <td>0.059000</td>\n",
              "      <td>0.159000</td>\n",
              "      <td>0.724000</td>\n",
              "      <td>1.371308</td>\n",
              "      <td>0.812660</td>\n",
              "      <td>-0.443535</td>\n",
              "    </tr>\n",
              "    <tr>\n",
              "      <th>75%</th>\n",
              "      <td>6.015920e+05</td>\n",
              "      <td>8496.721194</td>\n",
              "      <td>152.088064</td>\n",
              "      <td>91.100000</td>\n",
              "      <td>2.970000</td>\n",
              "      <td>14.000000</td>\n",
              "      <td>74624.000000</td>\n",
              "      <td>0.041000</td>\n",
              "      <td>0.043000</td>\n",
              "      <td>0.080000</td>\n",
              "      <td>0.197000</td>\n",
              "      <td>0.768000</td>\n",
              "      <td>2.244389</td>\n",
              "      <td>1.363326</td>\n",
              "      <td>0.769231</td>\n",
              "    </tr>\n",
              "    <tr>\n",
              "      <th>max</th>\n",
              "      <td>1.003911e+07</td>\n",
              "      <td>51947.274030</td>\n",
              "      <td>7261.952708</td>\n",
              "      <td>95.900000</td>\n",
              "      <td>3.870000</td>\n",
              "      <td>22.000000</td>\n",
              "      <td>124055.000000</td>\n",
              "      <td>0.106000</td>\n",
              "      <td>0.206000</td>\n",
              "      <td>0.213000</td>\n",
              "      <td>0.297000</td>\n",
              "      <td>0.865000</td>\n",
              "      <td>12.903226</td>\n",
              "      <td>7.692308</td>\n",
              "      <td>7.692308</td>\n",
              "    </tr>\n",
              "  </tbody>\n",
              "</table>\n",
              "</div>"
            ],
            "text/plain": [
              "         Population  ...  change in deaths/cases percentage\n",
              "count  7.700000e+01  ...                          77.000000\n",
              "mean   6.304135e+05  ...                          -0.472276\n",
              "std    1.297275e+06  ...                           2.829384\n",
              "min    7.208000e+03  ...                         -12.903226\n",
              "25%    8.608500e+04  ...                          -1.398646\n",
              "50%    2.191860e+05  ...                          -0.443535\n",
              "75%    6.015920e+05  ...                           0.769231\n",
              "max    1.003911e+07  ...                           7.692308\n",
              "\n",
              "[8 rows x 15 columns]"
            ]
          },
          "execution_count": 9,
          "metadata": {},
          "output_type": "execute_result"
        }
      ]
    },
    {
      "cell_type": "code",
      "metadata": {
        "colab": {
          "base_uri": "https://localhost:8080/",
          "height": 322
        },
        "id": "no3w-eSXuDhw",
        "outputId": "effdd08b-a830-4566-c340-a5249250667c"
      },
      "source": [
        "#initial assessment of the data by histogram \n",
        "plt.hist(data_tot['status of the change'].cat.codes,edgecolor=\"black\")\n",
        "csfont = {'fontname':'Times New Roman'}\n",
        "plt.xlabel(\"Death Ratio\", **csfont, fontsize=15)\n",
        "plt.ylabel('Frequency', **csfont, fontsize=15)\n",
        "plt.xticks(fontsize=12)\n",
        "plt.yticks(fontsize=12)\n",
        "import os\n",
        "os.chdir('/content/drive/My Drive/AI_Thermal sytems_course_project/figures')\n",
        "plt.savefig('classes_histogram.eps', bbox_inches = 'tight', pad_inches = 0)\n",
        "d_stat = dict(enumerate(data_tot['status of the change'].cat.categories))\n",
        "print(d_stat)"
      ],
      "execution_count": null,
      "outputs": [
        {
          "name": "stderr",
          "output_type": "stream",
          "text": [
            "findfont: Font family ['Times New Roman'] not found. Falling back to DejaVu Sans.\n"
          ]
        },
        {
          "name": "stdout",
          "output_type": "stream",
          "text": [
            "{0: 'increase', 1: 'decrease', 2: 'no change'}\n"
          ]
        },
        {
          "data": {
            "image/png": "[encoded data removed]",
            "text/plain": [
              "<Figure size 432x288 with 1 Axes>"
            ]
          },
          "metadata": {},
          "output_type": "display_data"
        }
      ]
    },
    {
      "cell_type": "code",
      "metadata": {
        "colab": {
          "base_uri": "https://localhost:8080/",
          "height": 322
        },
        "id": "RsOhKdYf5bdy",
        "outputId": "eaa6faa9-72fe-427e-e311-9d964daccd21"
      },
      "source": [
        "import seaborn as sns\n",
        "plt.figure()\n",
        "change = ['Increase', 'Decrease']\n",
        "average_education = []\n",
        "\n",
        "rows_increase_death = data_tot.loc[data_tot['change in deaths/cases percentage'] > 0]\n",
        "education_increase_death = rows_increase_death[['High school percentage']]\n",
        "average_education_increase_death = (np.mean(education_increase_death.values))\n",
        "print (average_education_increase_death)\n",
        "rows_decrease_death = data_tot.loc[data_tot['change in deaths/cases percentage'] < 0]\n",
        "education_decrease_death = rows_decrease_death[['High school percentage']]\n",
        "average_education_decrease_death = (np.mean(education_decrease_death.values))\n",
        "print (average_education_decrease_death)\n",
        "average_education.append(average_education_increase_death)\n",
        "average_education.append(average_education_decrease_death)\n",
        "plt.bar(x=change, height=average_education, color=['red', 'blue'], width=[0.5, 0.5])\n",
        "csfont = {'fontname':'Times New Roman'}\n",
        "plt.ylabel(\"Average Education Level (%)\", **csfont, fontsize=15)\n",
        "plt.xlabel(\"Change in death ratio\", **csfont, fontsize=15)\n",
        "plt.xticks(fontsize=12)\n",
        "plt.yticks(fontsize=12)\n",
        "os.chdir('/content/drive/My Drive/AI_Thermal sytems_course_project/figures')\n",
        "plt.savefig('education_barplot.eps', bbox_inches = 'tight', pad_inches = 0)"
      ],
      "execution_count": null,
      "outputs": [
        {
          "name": "stdout",
          "output_type": "stream",
          "text": [
            "86.30333333333333\n",
            "84.70425531914894\n"
          ]
        },
        {
          "data": {
            "image/png": "[encoded data removed]",
            "text/plain": [
              "<Figure size 432x288 with 1 Axes>"
            ]
          },
          "metadata": {},
          "output_type": "display_data"
        }
      ]
    },
    {
      "cell_type": "code",
      "metadata": {
        "colab": {
          "base_uri": "https://localhost:8080/",
          "height": 322
        },
        "id": "3QeNJdwjLqDb",
        "outputId": "913aca55-2d8f-4d7c-f00f-97e60abee116"
      },
      "source": [
        "import seaborn as sns\n",
        "plt.figure()\n",
        "change = ['Increase', 'Decrease']\n",
        "average_income = []\n",
        "\n",
        "rows_increase_death = data_tot.loc[data_tot['change in deaths/cases percentage'] > 0]\n",
        "income_increase_death = rows_increase_death[['Median income']]\n",
        "average_income_increase_death = (np.mean(income_increase_death.values))\n",
        "print (average_income_increase_death)\n",
        "rows_decrease_death = data_tot.loc[data_tot['change in deaths/cases percentage'] < 0]\n",
        "income_decrease_death = rows_decrease_death[['Median income']]\n",
        "average_income_decrease_death = (np.mean(income_decrease_death.values))\n",
        "print (average_income_decrease_death)\n",
        "average_income.append(average_income_increase_death/1000)\n",
        "average_income.append(average_income_decrease_death/1000)\n",
        "plt.bar(x=change, height=average_income, color=['red', 'blue'], width=[0.5, 0.5])\n",
        "csfont = {'fontname':'Times New Roman'}\n",
        "plt.ylabel(\"Average Median Income (K)\", **csfont, fontsize=15)\n",
        "plt.xlabel(\"Change in death ratio\", **csfont, fontsize=15)\n",
        "plt.xticks(fontsize=12)\n",
        "plt.yticks(fontsize=12)\n",
        "os.chdir('/content/drive/MyDrive/COVID_project_github/Results')\n",
        "plt.savefig('income_barplot.eps', bbox_inches = 'tight', pad_inches = 0)"
      ],
      "execution_count": null,
      "outputs": [
        {
          "name": "stdout",
          "output_type": "stream",
          "text": [
            "59081.833333333336\n",
            "71225.55319148937\n"
          ]
        },
        {
          "data": {
            "image/png": "[encoded data removed]",
            "text/plain": [
              "<Figure size 432x288 with 1 Axes>"
            ]
          },
          "metadata": {},
          "output_type": "display_data"
        }
      ]
    },
    {
      "cell_type": "code",
      "metadata": {
        "colab": {
          "base_uri": "https://localhost:8080/",
          "height": 326
        },
        "id": "kT0i59DiPkCS",
        "outputId": "70b3c76a-8a4a-4102-91cd-0cb4e7eba5de"
      },
      "source": [
        "import seaborn as sns\n",
        "plt.figure()\n",
        "change = ['Increase', 'Decrease']\n",
        "average_population = []\n",
        "\n",
        "rows_increase_death = data_tot.loc[data_tot['change in deaths/cases percentage'] > 0]\n",
        "population_increase_death = rows_increase_death[['Population']]\n",
        "average_population_increase_death = (np.mean(population_increase_death.values))\n",
        "print (average_population_increase_death)\n",
        "rows_decrease_death = data_tot.loc[data_tot['change in deaths/cases percentage'] < 0]\n",
        "population_decrease_death = rows_decrease_death[['Population']]\n",
        "average_population_decrease_death = (np.mean(population_decrease_death.values))\n",
        "print (average_population_decrease_death)\n",
        "average_population.append(average_population_increase_death/1000000)\n",
        "average_population.append(average_population_decrease_death/1000000)\n",
        "plt.bar(x=change, height=average_population, color=['red', 'blue'], width=[0.5, 0.5])\n",
        "csfont = {'fontname':'Times New Roman'}\n",
        "plt.ylabel(\"Average Population (M)\", **csfont, fontsize=15)\n",
        "plt.xlabel(\"Change in death ratio\", **csfont, fontsize=15)\n",
        "plt.xticks(fontsize=12)\n",
        "plt.yticks(fontsize=12)\n",
        "os.chdir('/content/drive/MyDrive/COVID_project_github/Results')\n",
        "plt.savefig('population_barplot.eps', bbox_inches = 'tight', pad_inches = 0)"
      ],
      "execution_count": null,
      "outputs": [
        {
          "name": "stdout",
          "output_type": "stream",
          "text": [
            "118729.36666666667\n",
            "957020.3829787234\n"
          ]
        },
        {
          "data": {
            "image/png": "[encoded data removed]",
            "text/plain": [
              "<Figure size 432x288 with 1 Axes>"
            ]
          },
          "metadata": {},
          "output_type": "display_data"
        }
      ]
    },
    {
      "cell_type": "markdown",
      "metadata": {
        "id": "djJhIFoxynf8"
      },
      "source": [
        "Normal average for calculating mask usage percentage"
      ]
    },
    {
      "cell_type": "code",
      "metadata": {
        "colab": {
          "base_uri": "https://localhost:8080/",
          "height": 443
        },
        "id": "r3qUIzPNEVOR",
        "outputId": "315fb8ee-6faf-4dd6-d241-59038534456d"
      },
      "source": [
        "import seaborn as sns\n",
        "plt.figure(0)\n",
        "\n",
        "rows_increase_death = data_CA.loc[data_CA['change in deaths/cases percentage'] > 0]\n",
        "mask_always_increase_death = rows_increase_death[['Always']]\n",
        "CA_average_mask_always_increase_death = (np.mean(mask_always_increase_death.values)*100)\n",
        "print (CA_average_mask_always_increase_death)\n",
        "rows_decrease_death = data_CA.loc[data_CA['change in deaths/cases percentage'] < 0]\n",
        "mask_always_decrease_death = rows_decrease_death[['Always']]\n",
        "CA_average_mask_always_decrease_death = (np.mean(mask_always_decrease_death.values)*100)\n",
        "print (CA_average_mask_always_decrease_death)\n",
        "\n",
        "rows_increase_death = data_WA.loc[data_WA['change in deaths/cases percentage'] > 0]\n",
        "mask_always_increase_death = rows_increase_death[['Always']]\n",
        "WA_average_mask_always_increase_death = (np.mean(mask_always_increase_death.values)*100)\n",
        "print (WA_average_mask_always_increase_death)\n",
        "rows_decrease_death = data_WA.loc[data_WA['change in deaths/cases percentage'] < 0]\n",
        "mask_always_decrease_death = rows_decrease_death[['Always']]\n",
        "WA_average_mask_always_decrease_death = (np.mean(mask_always_decrease_death.values)*100)\n",
        "print (WA_average_mask_always_decrease_death)\n",
        "\n",
        "rows_increase_death = data_OR.loc[data_OR['change in deaths/cases percentage'] > 0]\n",
        "mask_always_increase_death = rows_increase_death[['Always']]\n",
        "OR_average_mask_always_increase_death = (np.mean(mask_always_increase_death.values)*100)\n",
        "print (OR_average_mask_always_increase_death)\n",
        "rows_decrease_death = data_OR.loc[data_OR['change in deaths/cases percentage'] < 0]\n",
        "mask_always_decrease_death = rows_decrease_death[['Always']]\n",
        "OR_average_mask_always_decrease_death = (np.mean(mask_always_decrease_death.values)*100)\n",
        "print (OR_average_mask_always_decrease_death)\n",
        "\n",
        "data = data = [[CA_average_mask_always_increase_death, CA_average_mask_always_decrease_death],\n",
        "[WA_average_mask_always_increase_death, WA_average_mask_always_decrease_death],\n",
        "[ OR_average_mask_always_increase_death, OR_average_mask_always_decrease_death]]\n",
        "n_groups = 2\n",
        "X = np.arange(n_groups)\n",
        "\n",
        "bar_width = 0.25\n",
        "plt.bar(X + 0.00, data[0], color = 'b', width = bar_width, label='CA')\n",
        "plt.bar(X + 0.25, data[1], color = 'g', width = bar_width, label='WA')\n",
        "plt.bar(X + 0.5, data[2], color = 'r', width = bar_width, label='OR')\n",
        "\n",
        "csfont = {'fontname':'Times New Roman'}\n",
        "plt.ylabel(\"Average Mask Always (%)\", **csfont, fontsize=15)\n",
        "plt.xlabel(\"Change in death ratio\", **csfont, fontsize=15)\n",
        "plt.xticks(X + bar_width, ('Increase', 'Decrease'), fontsize=12)\n",
        "plt.yticks(fontsize=12)\n",
        "plt.legend(loc='center left', bbox_to_anchor=(1, 0.86), fontsize=12)\n",
        "os.chdir('/content/drive/My Drive/AI_Thermal sytems_course_project/figures')\n",
        "plt.savefig('mask_always_barplot.eps', bbox_inches = 'tight', pad_inches = 0)"
      ],
      "execution_count": null,
      "outputs": [
        {
          "name": "stderr",
          "output_type": "stream",
          "text": [
            "The PostScript backend does not support transparency; partially transparent artists will be rendered opaque.\n",
            "The PostScript backend does not support transparency; partially transparent artists will be rendered opaque.\n"
          ]
        },
        {
          "name": "stdout",
          "output_type": "stream",
          "text": [
            "74.27272727272727\n",
            "74.84285714285714\n",
            "65.4125\n",
            "70.03\n",
            "65.07272727272728\n",
            "66.52222222222221\n"
          ]
        },
        {
          "data": {
            "image/png": "[encoded data removed]",
            "text/plain": [
              "<Figure size 432x288 with 1 Axes>"
            ]
          },
          "metadata": {},
          "output_type": "display_data"
        }
      ]
    },
    {
      "cell_type": "code",
      "metadata": {
        "colab": {
          "base_uri": "https://localhost:8080/",
          "height": 446
        },
        "id": "M0LP-hhcczIr",
        "outputId": "2fd917be-cdf4-4f1b-97ab-3f1fc833958a"
      },
      "source": [
        "import seaborn as sns\n",
        "plt.figure(0)\n",
        "\n",
        "rows_increase_death = data_CA.loc[data_CA['change in deaths/cases percentage'] > 0]\n",
        "mask_never_increase_death = rows_increase_death[['Never']]\n",
        "CA_average_mask_never_increase_death = (np.mean(mask_never_increase_death.values)*100)\n",
        "print (CA_average_mask_never_increase_death)\n",
        "rows_decrease_death = data_CA.loc[data_CA['change in deaths/cases percentage'] < 0]\n",
        "mask_never_decrease_death = rows_decrease_death[['Never']]\n",
        "CA_average_mask_never_decrease_death = (np.mean(mask_never_decrease_death.values)*100)\n",
        "print (CA_average_mask_never_decrease_death)\n",
        "\n",
        "rows_increase_death = data_WA.loc[data_WA['change in deaths/cases percentage'] > 0]\n",
        "mask_never_increase_death = rows_increase_death[['Never']]\n",
        "WA_average_mask_never_increase_death = (np.mean(mask_never_increase_death.values)*100)\n",
        "print (WA_average_mask_never_increase_death)\n",
        "rows_decrease_death = data_WA.loc[data_WA['change in deaths/cases percentage'] < 0]\n",
        "mask_never_decrease_death = rows_decrease_death[['Never']]\n",
        "WA_average_mask_never_decrease_death = (np.mean(mask_never_decrease_death.values)*100)\n",
        "print (WA_average_mask_never_decrease_death)\n",
        "\n",
        "rows_increase_death = data_OR.loc[data_OR['change in deaths/cases percentage'] > 0]\n",
        "mask_never_increase_death = rows_increase_death[['Never']]\n",
        "OR_average_mask_never_increase_death = (np.mean(mask_never_increase_death.values)*100)\n",
        "print (OR_average_mask_never_increase_death)\n",
        "rows_decrease_death = data_OR.loc[data_OR['change in deaths/cases percentage'] < 0]\n",
        "mask_never_decrease_death = rows_decrease_death[['Never']]\n",
        "OR_average_mask_never_decrease_death = (np.mean(mask_never_decrease_death.values)*100)\n",
        "print (OR_average_mask_never_decrease_death)\n",
        "\n",
        "data = data = [[CA_average_mask_never_increase_death, CA_average_mask_never_decrease_death],\n",
        "[WA_average_mask_never_increase_death, WA_average_mask_never_decrease_death],\n",
        "[ OR_average_mask_never_increase_death, OR_average_mask_never_decrease_death]]\n",
        "n_groups = 2\n",
        "X = np.arange(n_groups)\n",
        "\n",
        "bar_width = 0.25\n",
        "plt.bar(X + 0.00, data[0], color = 'b', width = bar_width, label='CA')\n",
        "plt.bar(X + 0.25, data[1], color = 'g', width = bar_width, label='WA')\n",
        "plt.bar(X + 0.5, data[2], color = 'r', width = bar_width, label='OR')\n",
        "\n",
        "csfont = {'fontname':'Times New Roman'}\n",
        "plt.ylabel(\"Average Mask Never (%)\", **csfont, fontsize=15)\n",
        "plt.xlabel(\"Change in death ratio\", **csfont, fontsize=15)\n",
        "plt.xticks(X + bar_width, ('Increase', 'Decrease'), fontsize=12)\n",
        "plt.yticks(fontsize=12)\n",
        "plt.legend(loc='center left', bbox_to_anchor=(1, 0.86), fontsize=12)\n",
        "os.chdir('/content/drive/MyDrive/COVID_project_github/Results')\n",
        "plt.savefig('mask_never_barplot.eps', bbox_inches = 'tight', pad_inches = 0)"
      ],
      "execution_count": null,
      "outputs": [
        {
          "name": "stderr",
          "output_type": "stream",
          "text": [
            "The PostScript backend does not support transparency; partially transparent artists will be rendered opaque.\n",
            "The PostScript backend does not support transparency; partially transparent artists will be rendered opaque.\n"
          ]
        },
        {
          "name": "stdout",
          "output_type": "stream",
          "text": [
            "2.9727272727272727\n",
            "2.4250000000000003\n",
            "4.5375\n",
            "3.9\n",
            "3.3181818181818175\n",
            "3.011111111111111\n"
          ]
        },
        {
          "data": {
            "image/png": "[encoded data removed]",
            "text/plain": [
              "<Figure size 432x288 with 1 Axes>"
            ]
          },
          "metadata": {},
          "output_type": "display_data"
        }
      ]
    },
    {
      "cell_type": "code",
      "metadata": {
        "colab": {
          "base_uri": "https://localhost:8080/",
          "height": 446
        },
        "id": "TTOtMg5bs4Qk",
        "outputId": "acba7b6c-33a3-4611-be3a-0393e01fdf4b"
      },
      "source": [
        "import seaborn as sns\n",
        "plt.figure(0)\n",
        "\n",
        "rows_increase_death = data_CA.loc[data_CA['change in deaths/cases percentage'] > 0]\n",
        "mask_rarely_increase_death = rows_increase_death[['Rarely']]\n",
        "CA_average_mask_rarely_increase_death = (np.mean(mask_rarely_increase_death.values)*100)\n",
        "print (CA_average_mask_rarely_increase_death)\n",
        "rows_decrease_death = data_CA.loc[data_CA['change in deaths/cases percentage'] < 0]\n",
        "mask_rarely_decrease_death = rows_decrease_death[['Rarely']]\n",
        "CA_average_mask_rarely_decrease_death = (np.mean(mask_rarely_decrease_death.values)*100)\n",
        "print (CA_average_mask_rarely_decrease_death)\n",
        "\n",
        "rows_increase_death = data_WA.loc[data_WA['change in deaths/cases percentage'] > 0]\n",
        "mask_rarely_increase_death = rows_increase_death[['Rarely']]\n",
        "WA_average_mask_rarely_increase_death = (np.mean(mask_rarely_increase_death.values)*100)\n",
        "print (WA_average_mask_rarely_increase_death)\n",
        "rows_decrease_death = data_WA.loc[data_WA['change in deaths/cases percentage'] < 0]\n",
        "mask_rarely_decrease_death = rows_decrease_death[['Rarely']]\n",
        "WA_average_mask_rarely_decrease_death = (np.mean(mask_rarely_decrease_death.values)*100)\n",
        "print (WA_average_mask_rarely_decrease_death)\n",
        "\n",
        "rows_increase_death = data_OR.loc[data_OR['change in deaths/cases percentage'] > 0]\n",
        "mask_rarely_increase_death = rows_increase_death[['Rarely']]\n",
        "OR_average_mask_rarely_increase_death = (np.mean(mask_rarely_increase_death.values)*100)\n",
        "print (OR_average_mask_rarely_increase_death)\n",
        "rows_decrease_death = data_OR.loc[data_OR['change in deaths/cases percentage'] < 0]\n",
        "mask_rarely_decrease_death = rows_decrease_death[['Rarely']]\n",
        "OR_average_mask_rarely_decrease_death = (np.mean(mask_rarely_decrease_death.values)*100)\n",
        "print (OR_average_mask_rarely_decrease_death)\n",
        "\n",
        "data = data = [[CA_average_mask_rarely_increase_death, CA_average_mask_rarely_decrease_death],\n",
        "[WA_average_mask_rarely_increase_death, WA_average_mask_rarely_decrease_death],\n",
        "[ OR_average_mask_rarely_increase_death, OR_average_mask_rarely_decrease_death]]\n",
        "n_groups = 2\n",
        "X = np.arange(n_groups)\n",
        "\n",
        "bar_width = 0.25\n",
        "plt.bar(X + 0.00, data[0], color = 'b', width = bar_width, label='CA')\n",
        "plt.bar(X + 0.25, data[1], color = 'g', width = bar_width, label='WA')\n",
        "plt.bar(X + 0.5, data[2], color = 'r', width = bar_width, label='OR')\n",
        "\n",
        "csfont = {'fontname':'Times New Roman'}\n",
        "plt.ylabel(\"Average Mask Rarely (%)\", **csfont, fontsize=15)\n",
        "plt.xlabel(\"Change in death ratio\", **csfont, fontsize=15)\n",
        "plt.xticks(X + bar_width, ('Increase', 'Decrease'), fontsize=12)\n",
        "plt.yticks(fontsize=12)\n",
        "plt.legend(loc='center left', bbox_to_anchor=(1, 0.86), fontsize=12)\n",
        "os.chdir('/content/drive/MyDrive/COVID_project_github/Results')\n",
        "plt.savefig('mask_rarely_barplot.eps', bbox_inches = 'tight', pad_inches = 0)"
      ],
      "execution_count": null,
      "outputs": [
        {
          "name": "stderr",
          "output_type": "stream",
          "text": [
            "The PostScript backend does not support transparency; partially transparent artists will be rendered opaque.\n",
            "The PostScript backend does not support transparency; partially transparent artists will be rendered opaque.\n"
          ]
        },
        {
          "name": "stdout",
          "output_type": "stream",
          "text": [
            "1.6454545454545457\n",
            "2.2535714285714286\n",
            "5.050000000000001\n",
            "3.46\n",
            "4.1818181818181825\n",
            "4.2555555555555555\n"
          ]
        },
        {
          "data": {
            "image/png": "[encoded data removed]",
            "text/plain": [
              "<Figure size 432x288 with 1 Axes>"
            ]
          },
          "metadata": {},
          "output_type": "display_data"
        }
      ]
    },
    {
      "cell_type": "markdown",
      "metadata": {
        "id": "xvlCsSDnH3h5"
      },
      "source": [
        "Weighted average for calculating mask usage percentage"
      ]
    },
    {
      "cell_type": "code",
      "metadata": {
        "colab": {
          "base_uri": "https://localhost:8080/",
          "height": 449
        },
        "id": "lU0TqWF6H7hH",
        "outputId": "4bb08139-1dc2-4557-e8ae-62ae543e5fc9"
      },
      "source": [
        "import seaborn as sns\n",
        "plt.figure(0)\n",
        "\n",
        "rows_increase_death = data_CA.loc[data_CA['change in deaths/cases percentage'] > 0]\n",
        "usage_percentage_mask_always_increase_death = rows_increase_death[['Always']]\n",
        "population_mask_always_increase_death = rows_increase_death[['Population']]\n",
        "CA_average_mask_always_increase_death = 100 * np.sum(usage_percentage_mask_always_increase_death.values * population_mask_always_increase_death.values) / np.sum(population_mask_always_increase_death.values)\n",
        "print (CA_average_mask_always_increase_death)\n",
        "rows_decrease_death = data_CA.loc[data_CA['change in deaths/cases percentage'] < 0]\n",
        "usage_percentage_mask_always_decrease_death = rows_decrease_death[['Always']]\n",
        "population_mask_always_decrease_death = rows_decrease_death[['Population']]\n",
        "CA_average_mask_always_decrease_death = 100 * np.sum(usage_percentage_mask_always_decrease_death.values * population_mask_always_decrease_death.values) / np.sum(population_mask_always_decrease_death.values)\n",
        "print (CA_average_mask_always_decrease_death)\n",
        "\n",
        "rows_increase_death = data_WA.loc[data_WA['change in deaths/cases percentage'] > 0]\n",
        "usage_percentage_mask_always_increase_death = rows_increase_death[['Always']]\n",
        "population_mask_always_increase_death = rows_increase_death[['Population']]\n",
        "WA_average_mask_always_increase_death = 100 * np.sum(usage_percentage_mask_always_increase_death.values * population_mask_always_increase_death.values) / np.sum(population_mask_always_increase_death.values)\n",
        "print (WA_average_mask_always_increase_death)\n",
        "rows_decrease_death = data_WA.loc[data_WA['change in deaths/cases percentage'] < 0]\n",
        "usage_percentage_mask_always_decrease_death = rows_decrease_death[['Always']]\n",
        "population_mask_always_decrease_death = rows_decrease_death[['Population']]\n",
        "WA_average_mask_always_decrease_death = 100 * np.sum(usage_percentage_mask_always_decrease_death.values * population_mask_always_decrease_death.values) / np.sum(population_mask_always_decrease_death.values)\n",
        "print (WA_average_mask_always_decrease_death)\n",
        "\n",
        "rows_increase_death = data_OR.loc[data_OR['change in deaths/cases percentage'] > 0]\n",
        "usage_percentage_mask_always_increase_death = rows_increase_death[['Always']]\n",
        "population_mask_always_increase_death = rows_increase_death[['Population']]\n",
        "OR_average_mask_always_increase_death = 100 * np.sum(usage_percentage_mask_always_increase_death.values * population_mask_always_increase_death.values) / np.sum(population_mask_always_increase_death.values)\n",
        "print (OR_average_mask_always_increase_death)\n",
        "rows_decrease_death = data_OR.loc[data_OR['change in deaths/cases percentage'] < 0]\n",
        "usage_percentage_mask_always_decrease_death = rows_decrease_death[['Always']]\n",
        "population_mask_always_decrease_death = rows_decrease_death[['Population']]\n",
        "OR_average_mask_always_decrease_death = 100 * np.sum(usage_percentage_mask_always_decrease_death.values * population_mask_always_decrease_death.values) / np.sum(population_mask_always_decrease_death.values)\n",
        "print (OR_average_mask_always_decrease_death)\n",
        "\n",
        "data = data = [[CA_average_mask_always_increase_death, CA_average_mask_always_decrease_death],\n",
        "[WA_average_mask_always_increase_death, WA_average_mask_always_decrease_death],\n",
        "[ OR_average_mask_always_increase_death, OR_average_mask_always_decrease_death]]\n",
        "n_groups = 2\n",
        "X = np.arange(n_groups)\n",
        "\n",
        "bar_width = 0.25\n",
        "plt.bar(X + 0.00, data[0], color = 'b', width = bar_width, label='CA')\n",
        "plt.bar(X + 0.25, data[1], color = 'g', width = bar_width, label='WA')\n",
        "plt.bar(X + 0.5, data[2], color = 'r', width = bar_width, label='OR')\n",
        "\n",
        "csfont = {'fontname':'Times New Roman'}\n",
        "plt.ylabel(\"Average Mask Always (%)\", **csfont, fontsize=15)\n",
        "plt.xlabel(\"Change in death ratio\", **csfont, fontsize=15)\n",
        "plt.xticks(X + bar_width, ('Increase', 'Decrease'), fontsize=12)\n",
        "plt.yticks(fontsize=12)\n",
        "plt.legend(loc='center left', bbox_to_anchor=(1, 0.86), fontsize=12)\n",
        "os.chdir('/content/drive/MyDrive/COVID_project_github/Results')\n",
        "plt.savefig('weighted_average_mask_always_barplot.eps', bbox_inches = 'tight', pad_inches = 0)"
      ],
      "execution_count": null,
      "outputs": [
        {
          "name": "stderr",
          "output_type": "stream",
          "text": [
            "The PostScript backend does not support transparency; partially transparent artists will be rendered opaque.\n",
            "The PostScript backend does not support transparency; partially transparent artists will be rendered opaque.\n"
          ]
        },
        {
          "name": "stdout",
          "output_type": "stream",
          "text": [
            "76.2446507713804\n",
            "76.90973379765508\n",
            "63.5262015290336\n",
            "70.27340768779224\n",
            "67.25360149304025\n",
            "72.38168339281583\n"
          ]
        },
        {
          "data": {
            "image/png": "[encoded data removed]",
            "text/plain": [
              "<Figure size 432x288 with 1 Axes>"
            ]
          },
          "metadata": {},
          "output_type": "display_data"
        }
      ]
    },
    {
      "cell_type": "code",
      "metadata": {
        "colab": {
          "base_uri": "https://localhost:8080/",
          "height": 449
        },
        "id": "wDIp3X9-Lj7A",
        "outputId": "282315c5-1a8d-463b-da99-2819f71b23d9"
      },
      "source": [
        "import seaborn as sns\n",
        "plt.figure(0)\n",
        "\n",
        "rows_increase_death = data_CA.loc[data_CA['change in deaths/cases percentage'] > 0]\n",
        "usage_percentage_mask_never_increase_death = rows_increase_death[['Never']]\n",
        "population_mask_never_increase_death = rows_increase_death[['Population']]\n",
        "CA_average_mask_always_increase_death = 100 * np.sum(usage_percentage_mask_always_increase_death.values * population_mask_always_increase_death.values) / np.sum(population_mask_always_increase_death.values)\n",
        "print (CA_average_mask_always_increase_death)\n",
        "rows_decrease_death = data_CA.loc[data_CA['change in deaths/cases percentage'] < 0]\n",
        "usage_percentage_mask_always_decrease_death = rows_decrease_death[['Always']]\n",
        "population_mask_always_decrease_death = rows_decrease_death[['Population']]\n",
        "CA_average_mask_always_decrease_death = 100 * np.sum(usage_percentage_mask_always_decrease_death.values * population_mask_always_decrease_death.values) / np.sum(population_mask_always_decrease_death.values)\n",
        "print (CA_average_mask_always_decrease_death)\n",
        "\n",
        "rows_increase_death = data_WA.loc[data_WA['change in deaths/cases percentage'] > 0]\n",
        "usage_percentage_mask_always_increase_death = rows_increase_death[['Always']]\n",
        "population_mask_always_increase_death = rows_increase_death[['Population']]\n",
        "WA_average_mask_always_increase_death = 100 * np.sum(usage_percentage_mask_always_increase_death.values * population_mask_always_increase_death.values) / np.sum(population_mask_always_increase_death.values)\n",
        "print (WA_average_mask_always_increase_death)\n",
        "rows_decrease_death = data_WA.loc[data_WA['change in deaths/cases percentage'] < 0]\n",
        "usage_percentage_mask_always_decrease_death = rows_decrease_death[['Always']]\n",
        "population_mask_always_decrease_death = rows_decrease_death[['Population']]\n",
        "WA_average_mask_always_decrease_death = 100 * np.sum(usage_percentage_mask_always_decrease_death.values * population_mask_always_decrease_death.values) / np.sum(population_mask_always_decrease_death.values)\n",
        "print (WA_average_mask_always_decrease_death)\n",
        "\n",
        "rows_increase_death = data_OR.loc[data_OR['change in deaths/cases percentage'] > 0]\n",
        "usage_percentage_mask_always_increase_death = rows_increase_death[['Always']]\n",
        "population_mask_always_increase_death = rows_increase_death[['Population']]\n",
        "OR_average_mask_always_increase_death = 100 * np.sum(usage_percentage_mask_always_increase_death.values * population_mask_always_increase_death.values) / np.sum(population_mask_always_increase_death.values)\n",
        "print (OR_average_mask_always_increase_death)\n",
        "rows_decrease_death = data_OR.loc[data_OR['change in deaths/cases percentage'] < 0]\n",
        "usage_percentage_mask_always_decrease_death = rows_decrease_death[['Always']]\n",
        "population_mask_always_decrease_death = rows_decrease_death[['Population']]\n",
        "OR_average_mask_always_decrease_death = 100 * np.sum(usage_percentage_mask_always_decrease_death.values * population_mask_always_decrease_death.values) / np.sum(population_mask_always_decrease_death.values)\n",
        "print (OR_average_mask_always_decrease_death)\n",
        "\n",
        "data = data = [[CA_average_mask_always_increase_death, CA_average_mask_always_decrease_death],\n",
        "[WA_average_mask_always_increase_death, WA_average_mask_always_decrease_death],\n",
        "[ OR_average_mask_always_increase_death, OR_average_mask_always_decrease_death]]\n",
        "n_groups = 2\n",
        "X = np.arange(n_groups)\n",
        "\n",
        "bar_width = 0.25\n",
        "plt.bar(X + 0.00, data[0], color = 'b', width = bar_width, label='CA')\n",
        "plt.bar(X + 0.25, data[1], color = 'g', width = bar_width, label='WA')\n",
        "plt.bar(X + 0.5, data[2], color = 'r', width = bar_width, label='OR')\n",
        "\n",
        "csfont = {'fontname':'Times New Roman'}\n",
        "plt.ylabel(\"Average Mask Always (%)\", **csfont, fontsize=15)\n",
        "plt.xlabel(\"Change in death ratio\", **csfont, fontsize=15)\n",
        "plt.xticks(X + bar_width, ('Increase', 'Decrease'), fontsize=12)\n",
        "plt.yticks(fontsize=12)\n",
        "plt.legend(loc='center left', bbox_to_anchor=(1, 0.86), fontsize=12)\n",
        "os.chdir('/content/drive/MyDrive/COVID_project_github/Results')\n",
        "plt.savefig('weighted_average_mask_never_barplot.eps', bbox_inches = 'tight', pad_inches = 0)"
      ],
      "execution_count": null,
      "outputs": [
        {
          "name": "stderr",
          "output_type": "stream",
          "text": [
            "The PostScript backend does not support transparency; partially transparent artists will be rendered opaque.\n",
            "The PostScript backend does not support transparency; partially transparent artists will be rendered opaque.\n"
          ]
        },
        {
          "name": "stdout",
          "output_type": "stream",
          "text": [
            "67.25360149304025\n",
            "76.90973379765508\n",
            "63.5262015290336\n",
            "70.27340768779224\n",
            "67.25360149304025\n",
            "72.38168339281583\n"
          ]
        },
        {
          "data": {
            "image/png": "[encoded data removed]",
            "text/plain": [
              "<Figure size 432x288 with 1 Axes>"
            ]
          },
          "metadata": {},
          "output_type": "display_data"
        }
      ]
    },
    {
      "cell_type": "code",
      "metadata": {
        "colab": {
          "base_uri": "https://localhost:8080/",
          "height": 762
        },
        "id": "orGkfFyGVaLK",
        "outputId": "6b503efa-c65b-4ff9-a237-9cdd8badeb0f"
      },
      "source": [
        "import matplotlib.gridspec as gridspec\n",
        "fig = plt.figure(figsize=(18,14))\n",
        "gs = gridspec.GridSpec(2, 4)\n",
        "gs.update(wspace=0.5,hspace=0.3)\n",
        "ax1 = fig.add_subplot(gs[0, :2])\n",
        "ax2 = fig.add_subplot(gs[0, 2:])\n",
        "ax3 = fig.add_subplot(gs[1, 1:3])\n",
        "fs=20\n",
        "ax1.scatter(data_tot['Population'].values,data_tot['change in deaths/cases percentage'])\n",
        "ax1.set_xlabel(\"Population\",**csfont,fontsize=fs)\n",
        "ax1.set_ylabel(\"Change in Death Ratio [%]\",**csfont,fontsize=fs)\n",
        "ax1.set_title('(a)',**csfont,fontsize=fs)\n",
        "ax1.tick_params(axis='x', labelsize= fs)\n",
        "ax1.tick_params(axis='y', labelsize= fs)\n",
        "ax2.scatter(data_tot['Median income'].values,data_tot['change in deaths/cases percentage'])\n",
        "ax2.set_xlabel(\"Median Income [US$]\",**csfont,fontsize=fs)\n",
        "ax2.set_title('(b)',**csfont,fontsize=fs)\n",
        "ax2.tick_params(axis='x', labelsize= fs)\n",
        "ax2.tick_params(axis='y', labelsize= fs)\n",
        "\n",
        "ax3.scatter(data_tot['Frequently'].values,data_tot['change in deaths/cases percentage'])\n",
        "ax3.set_ylabel(\"Change in Death Ratio [%]\",**csfont,fontsize=fs)\n",
        "ax3.set_xlabel(\"Portion of People Using Mask Frequently\",**csfont,fontsize=fs)\n",
        "ax3.set_title('(c)',**csfont,fontsize=fs)\n",
        "ax3.tick_params(axis='x', labelsize= fs)\n",
        "ax3.tick_params(axis='y', labelsize= fs)\n",
        "import os\n",
        "fig.tight_layout()\n",
        "os.chdir('/content/drive/MyDrive/COVID_project_github/Results')\n",
        "plt.savefig('all_scatter_2.png', bbox_inches = 'tight', pad_inches = 0)"
      ],
      "execution_count": null,
      "outputs": [
        {
          "name": "stderr",
          "output_type": "stream",
          "text": [
            "/usr/local/lib/python3.7/dist-packages/ipykernel_launcher.py:28: UserWarning: This figure includes Axes that are not compatible with tight_layout, so results might be incorrect.\n",
            "findfont: Font family ['Times New Roman'] not found. Falling back to DejaVu Sans.\n"
          ]
        },
        {
          "data": {
            "image/png": "[encoded data removed]",
            "text/plain": [
              "<Figure size 1296x1008 with 3 Axes>"
            ]
          },
          "metadata": {},
          "output_type": "display_data"
        }
      ]
    },
    {
      "cell_type": "code",
      "metadata": {
        "colab": {
          "base_uri": "https://localhost:8080/"
        },
        "id": "1H6vbVX-uxJF",
        "outputId": "0b15e6e3-1779-43ea-8263-e04d20a045c8"
      },
      "source": [
        "#initial assessment of data by scatter plotting\n",
        "print(data_tot_copy['status of the change'].value_counts())\n",
        "d_stat = dict(enumerate(data_tot['status of the change'].cat.categories))\n",
        "print (d_stat)"
      ],
      "execution_count": null,
      "outputs": [
        {
          "name": "stdout",
          "output_type": "stream",
          "text": [
            "no change    53\n",
            "decrease     47\n",
            "increase     30\n",
            "Name: status of the change, dtype: int64\n",
            "{0: 'increase', 1: 'decrease', 2: 'no change'}\n"
          ]
        }
      ]
    },
    {
      "cell_type": "code",
      "metadata": {
        "id": "OmvbsHhFD8O1"
      },
      "source": [
        "#Define the features for the final dataset\n",
        "x=data_tot.drop(columns=['1_months_before_order deaths/cases percentage', '1_months_after_order deaths/cases percentage', 'change in deaths/cases percentage', 'Area (sq km)', 'Population density (person/km^2)', 'status of the change','County', \"Persons in poverty percentage\", 'Persons per household'])\n",
        "y1=data_tot[['change in deaths/cases percentage']] #define your output data as numerical values \n",
        "y2=data_tot['status of the change'].cat.codes #define your output data as distinct classes"
      ],
      "execution_count": null,
      "outputs": []
    },
    {
      "cell_type": "code",
      "metadata": {
        "colab": {
          "base_uri": "https://localhost:8080/"
        },
        "id": "yPsTJcvFjWgl",
        "outputId": "d8dd92ac-e65c-4808-d401-9cd77ee9117e"
      },
      "source": [
        "x.dtypes"
      ],
      "execution_count": null,
      "outputs": [
        {
          "data": {
            "text/plain": [
              "Population                  int64\n",
              "High school percentage    float64\n",
              "Median income               int64\n",
              "Never                     float64\n",
              "Rarely                    float64\n",
              "Sometimes                 float64\n",
              "Frequently                float64\n",
              "Always                    float64\n",
              "dtype: object"
            ]
          },
          "execution_count": 23,
          "metadata": {},
          "output_type": "execute_result"
        }
      ]
    },
    {
      "cell_type": "code",
      "metadata": {
        "id": "aHTFKzUvlYxD"
      },
      "source": [
        "#scaling data\n",
        "from sklearn.preprocessing import MaxAbsScaler\n",
        "from sklearn.preprocessing import MinMaxScaler\n",
        "min_max_scaler = MinMaxScaler()\n",
        "max_abs_scaler = MaxAbsScaler()\n",
        "x_scaled=min_max_scaler.fit_transform(x) #scale the positive values\n",
        "y1_scaled=max_abs_scaler.fit_transform(y1)# scale the values that are both positive and negative"
      ],
      "execution_count": null,
      "outputs": []
    },
    {
      "cell_type": "code",
      "metadata": {
        "id": "Qda0jA9PkpEb"
      },
      "source": [
        "#creating data from scaled files \n",
        "data_class = pd.concat([pd.DataFrame(x_scaled), pd.DataFrame(y2)], axis=1)\n",
        "data_class.columns=['Population', 'Education', 'Median income', 'Never', 'Rarely', 'Sometimes', 'Frequently', 'Always', 'status of the change']\n",
        "data_t = pd.concat([pd.DataFrame(x_scaled), pd.DataFrame(y1_scaled)], axis=1)\n",
        "data_t.columns=['Population', 'Education', 'Median income', 'Never', 'Rarely', 'Sometimes', 'Frequently', 'Always', '\\u0394DR']"
      ],
      "execution_count": null,
      "outputs": []
    },
    {
      "cell_type": "code",
      "metadata": {
        "colab": {
          "base_uri": "https://localhost:8080/",
          "height": 348
        },
        "id": "K_WO8PHZio_R",
        "outputId": "2da0c52b-4658-4888-e992-306fe64aa735"
      },
      "source": [
        "#Plot the correlation of output with each feature\n",
        "import seaborn as sns\n",
        "plt.figure(figsize=(2,5))  # set the size of the figure \n",
        "sns.set_style({'font.family': 'Times New Roman'})\n",
        "p = sns.heatmap(data_t.corr().loc[: , ['\\u0394DR']], annot=True,cmap ='RdYlGn', annot_kws={\"size\":15})\n",
        "p.tick_params(axis='y', labelsize= 15)\n",
        "p.tick_params(axis='x', labelsize= 15)\n",
        "cbar = p.collections[0].colorbar\n",
        "cbar.ax.tick_params(labelsize=15)\n",
        "import os\n",
        "os.chdir('/content/drive/MyDrive/COVID_project_github/Results')\n",
        "plt.savefig('output_features_correlations.eps', bbox_inches = 'tight', pad_inches = 0)"
      ],
      "execution_count": null,
      "outputs": [
        {
          "name": "stderr",
          "output_type": "stream",
          "text": [
            "findfont: Font family ['Times New Roman'] not found. Falling back to DejaVu Sans.\n"
          ]
        },
        {
          "data": {
            "image/png": "[encoded data removed]",
            "text/plain": [
              "<Figure size 144x360 with 2 Axes>"
            ]
          },
          "metadata": {},
          "output_type": "display_data"
        }
      ]
    },
    {
      "cell_type": "markdown",
      "metadata": {
        "id": "Xie30piW6jTp"
      },
      "source": [
        "# **Classification Models**"
      ]
    },
    {
      "cell_type": "markdown",
      "metadata": {
        "id": "Kzlz1wNh0Qrt"
      },
      "source": [
        "**Naive Bayes**"
      ]
    },
    {
      "cell_type": "code",
      "metadata": {
        "colab": {
          "base_uri": "https://localhost:8080/"
        },
        "id": "97zzNR9HxQLU",
        "outputId": "2678804a-edb8-49ee-a386-61cd0ccb0e3d"
      },
      "source": [
        "#split the data into train and test. Test data=1/5(total data)\n",
        "from sklearn.naive_bayes import GaussianNB\n",
        "from sklearn.naive_bayes import MultinomialNB\n",
        "from sklearn.model_selection import train_test_split \n",
        "X_train,X_test,y_train,y_test = train_test_split(x_scaled,y2,test_size=1/5,random_state=27, shuffle=True)\n",
        "\n",
        "#create an instance of GaussianNB class\n",
        "model=GaussianNB()\n",
        "\n",
        "#fit the training data \n",
        "model.fit(X_train, y_train)\n",
        "y_pred = model.predict(X_test)\n",
        "y_hat = model.predict(X_train)\n",
        "print(\"Number of mislabeled points out of a total %d points : %d\"  % (X_test.shape[0], (y_test != y_pred).sum()))"
      ],
      "execution_count": null,
      "outputs": [
        {
          "name": "stdout",
          "output_type": "stream",
          "text": [
            "Number of mislabeled points out of a total 16 points : 1\n"
          ]
        }
      ]
    },
    {
      "cell_type": "code",
      "metadata": {
        "colab": {
          "base_uri": "https://localhost:8080/",
          "height": 384
        },
        "id": "-yK9Esu47Aei",
        "outputId": "f0839f27-4806-4db0-9af8-2674032351ff"
      },
      "source": [
        "import sklearn.metrics as metrics\n",
        "# calculate the fpr and tpr for all thresholds of the classification\n",
        "probs = model.predict_proba(X_test)\n",
        "preds = probs[:,1]\n",
        "fpr, tpr, threshold = metrics.roc_curve(y_test, preds)\n",
        "roc_auc = metrics.auc(fpr, tpr)\n",
        "\n",
        "print(fpr)\n",
        "print(tpr)\n",
        "# method I: plt\n",
        "import matplotlib.pyplot as plt\n",
        "plt.title('Receiver Operating Characteristic')\n",
        "plt.plot(fpr, tpr, 'b', label = 'AUC = %0.2f' % roc_auc)\n",
        "plt.legend(loc = 'lower right')\n",
        "plt.plot([0, 1], [0, 1],'r--')\n",
        "plt.xlim([0, 1])\n",
        "plt.ylim([0, 1])\n",
        "plt.ylabel('True Positive Rate')\n",
        "plt.xlabel('False Positive Rate')"
      ],
      "execution_count": null,
      "outputs": [
        {
          "name": "stdout",
          "output_type": "stream",
          "text": [
            "[0. 0. 0. 1. 1.]\n",
            "[0.  0.2 0.9 0.9 1. ]\n"
          ]
        },
        {
          "data": {
            "text/plain": [
              "Text(0.5, 0, 'False Positive Rate')"
            ]
          },
          "execution_count": 28,
          "metadata": {},
          "output_type": "execute_result"
        },
        {
          "name": "stderr",
          "output_type": "stream",
          "text": [
            "findfont: Font family ['Times New Roman'] not found. Falling back to DejaVu Sans.\n",
            "findfont: Font family ['Times New Roman'] not found. Falling back to DejaVu Sans.\n"
          ]
        },
        {
          "data": {
            "image/png": "[encoded data removed]",
            "text/plain": [
              "<Figure size 432x288 with 1 Axes>"
            ]
          },
          "metadata": {},
          "output_type": "display_data"
        }
      ]
    },
    {
      "cell_type": "code",
      "metadata": {
        "colab": {
          "base_uri": "https://localhost:8080/"
        },
        "id": "5pAsmM8xQsnG",
        "outputId": "dc722dfa-8b6d-40e3-f129-9e63fff6a510"
      },
      "source": [
        "#compute our score to evaluate the performance of the fitting\n",
        "from sklearn.metrics import accuracy_score\n",
        "score = accuracy_score(y_test, y_pred) \n",
        "print('score_test=',score)\n",
        "score = accuracy_score(y_train, y_hat) \n",
        "print('score_train=',score)"
      ],
      "execution_count": null,
      "outputs": [
        {
          "name": "stdout",
          "output_type": "stream",
          "text": [
            "score_test= 0.9375\n",
            "score_train= 0.7049180327868853\n"
          ]
        }
      ]
    },
    {
      "cell_type": "code",
      "metadata": {
        "colab": {
          "base_uri": "https://localhost:8080/",
          "height": 435
        },
        "id": "EUbjNi1xMqzb",
        "outputId": "fa1a30e6-aea3-42df-80b8-351daea7f003"
      },
      "source": [
        "#build a confusion matrix to visualize the performance of the model using seaborn\n",
        "from sklearn.metrics import classification_report\n",
        "print(classification_report(y_test,y_pred))\n",
        "\n",
        "from sklearn.metrics import confusion_matrix\n",
        "mat = confusion_matrix(y_test, y_pred)\n",
        "sns.heatmap(mat.T, square=True, annot=True, fmt='d', cbar=False,\n",
        "            )\n",
        "plt.xlabel('true label')\n",
        "plt.ylabel('predicted label');\n",
        "os.chdir('/content/drive/MyDrive/COVID_project_github/Results')\n",
        "plt.savefig('confusion_matrix_NB.png', bbox_inches = 'tight', pad_inches = 0)"
      ],
      "execution_count": null,
      "outputs": [
        {
          "name": "stdout",
          "output_type": "stream",
          "text": [
            "              precision    recall  f1-score   support\n",
            "\n",
            "           0       0.86      1.00      0.92         6\n",
            "           1       1.00      0.90      0.95        10\n",
            "\n",
            "    accuracy                           0.94        16\n",
            "   macro avg       0.93      0.95      0.94        16\n",
            "weighted avg       0.95      0.94      0.94        16\n",
            "\n"
          ]
        },
        {
          "data": {
            "image/png": "[encoded data removed]",
            "text/plain": [
              "<Figure size 432x288 with 1 Axes>"
            ]
          },
          "metadata": {},
          "output_type": "display_data"
        }
      ]
    },
    {
      "cell_type": "markdown",
      "metadata": {
        "id": "1LpORfPARetz"
      },
      "source": [
        "**Suport Vector Machine**"
      ]
    },
    {
      "cell_type": "code",
      "metadata": {
        "colab": {
          "base_uri": "https://localhost:8080/"
        },
        "id": "NFK0QPrzQ7nr",
        "outputId": "f73c2f86-46cf-4c03-a809-42986671a978"
      },
      "source": [
        "#Build a support vector machine model\n",
        "from sklearn import svm\n",
        "model = svm.SVC(kernel='rbf',C=1,max_iter=1000) #define an instance of SVC class\n",
        "'''\n",
        "kernel=Define the non-linear kernel to be used\n",
        "degree= specify the degree for polynomial kernel\n",
        "C= penalty term. It is the inverse of regularization coefficient. \n",
        "max_iter=maximum iterations to perform.\n",
        "'''\n",
        "model.fit(X_train,y_train)  #fit the model on train data and label"
      ],
      "execution_count": null,
      "outputs": [
        {
          "data": {
            "text/plain": [
              "SVC(C=1, max_iter=1000)"
            ]
          },
          "execution_count": 32,
          "metadata": {},
          "output_type": "execute_result"
        }
      ]
    },
    {
      "cell_type": "code",
      "metadata": {
        "colab": {
          "base_uri": "https://localhost:8080/"
        },
        "id": "thedzmWkSEDT",
        "outputId": "fa4a6307-c867-4c69-d885-5d518915cb3c"
      },
      "source": [
        "#Tune the hyper parameters using the grid search\n",
        "from sklearn.model_selection import GridSearchCV\n",
        "# defining parameter range \n",
        "param_grid = {'C': [0.1, 1, 10, 100, 1000],  \n",
        "              'gamma': [1, 0.1, 0.01, 0.001, 0.0001], \n",
        "              'kernel': ['rbf', 'linear', 'poly'],\n",
        "              'degree': [2, 3, 4, 5]}  \n",
        "  \n",
        "grid = GridSearchCV(svm.SVC(), param_grid, refit = True, verbose = 0, cv = 5) \n",
        "  \n",
        "# fitting the model for grid search \n",
        "grid.fit(X_train, y_train) "
      ],
      "execution_count": null,
      "outputs": [
        {
          "data": {
            "text/plain": [
              "GridSearchCV(cv=5, estimator=SVC(),\n",
              "             param_grid={'C': [0.1, 1, 10, 100, 1000], 'degree': [2, 3, 4, 5],\n",
              "                         'gamma': [1, 0.1, 0.01, 0.001, 0.0001],\n",
              "                         'kernel': ['rbf', 'linear', 'poly']})"
            ]
          },
          "execution_count": 33,
          "metadata": {},
          "output_type": "execute_result"
        }
      ]
    },
    {
      "cell_type": "code",
      "metadata": {
        "colab": {
          "base_uri": "https://localhost:8080/"
        },
        "id": "gZHH_safSKDk",
        "outputId": "548fb50b-3324-428f-afe3-6f384d386463"
      },
      "source": [
        "# print best parameter after tuning \n",
        "print(grid.best_params_) \n",
        "  \n",
        "# print how our model looks after hyper-parameter tuning \n",
        "print(grid.best_estimator_) "
      ],
      "execution_count": null,
      "outputs": [
        {
          "name": "stdout",
          "output_type": "stream",
          "text": [
            "{'C': 1, 'degree': 5, 'gamma': 1, 'kernel': 'poly'}\n",
            "SVC(C=1, break_ties=False, cache_size=200, class_weight=None, coef0=0.0,\n",
            "    decision_function_shape='ovr', degree=5, gamma=1, kernel='poly',\n",
            "    max_iter=-1, probability=False, random_state=None, shrinking=True,\n",
            "    tol=0.001, verbose=False)\n"
          ]
        }
      ]
    },
    {
      "cell_type": "code",
      "metadata": {
        "colab": {
          "base_uri": "https://localhost:8080/"
        },
        "id": "6lAzCJdkSO7U",
        "outputId": "adc104ff-7f3b-4d3b-e7a1-c45901fc5c08"
      },
      "source": [
        "model_tuned = svm.SVC(kernel='poly', degree = 5, C=1,max_iter=1000, gamma = 1,probability=True)\n",
        "model_tuned.fit(X_train,y_train)"
      ],
      "execution_count": null,
      "outputs": [
        {
          "data": {
            "text/plain": [
              "SVC(C=1, break_ties=False, cache_size=200, class_weight=None, coef0=0.0,\n",
              "    decision_function_shape='ovr', degree=5, gamma=1, kernel='poly',\n",
              "    max_iter=1000, probability=True, random_state=None, shrinking=True,\n",
              "    tol=0.001, verbose=False)"
            ]
          },
          "execution_count": 88,
          "metadata": {},
          "output_type": "execute_result"
        }
      ]
    },
    {
      "cell_type": "code",
      "metadata": {
        "colab": {
          "base_uri": "https://localhost:8080/"
        },
        "id": "w7Mmpqz1VGd5",
        "outputId": "0a373b09-10a1-4de6-dc53-30fd17cb2c6d"
      },
      "source": [
        "y_hat = model_tuned.predict(X_train)\n",
        "y_pred = model_tuned.predict(X_test)\n",
        "print(\"Number of mislabeled points out of a total %d points : %d\"  % (X_test.shape[0], (y_test != y_pred).sum()))"
      ],
      "execution_count": null,
      "outputs": [
        {
          "name": "stdout",
          "output_type": "stream",
          "text": [
            "Number of mislabeled points out of a total 16 points : 5\n"
          ]
        }
      ]
    },
    {
      "cell_type": "code",
      "metadata": {
        "colab": {
          "base_uri": "https://localhost:8080/"
        },
        "id": "m9C3ithnVSai",
        "outputId": "0bbf776a-3425-4763-85b0-08d649137cb2"
      },
      "source": [
        "#compute our score to evaluate the performance of the fitting\n",
        "from sklearn.metrics import accuracy_score\n",
        "score = accuracy_score(y_test, y_pred) \n",
        "print('score_test=',score)\n",
        "score = accuracy_score(y_train, y_hat) \n",
        "print('score_train=',score)"
      ],
      "execution_count": null,
      "outputs": [
        {
          "name": "stdout",
          "output_type": "stream",
          "text": [
            "score_test= 0.6875\n",
            "score_train= 0.9016393442622951\n"
          ]
        }
      ]
    },
    {
      "cell_type": "code",
      "metadata": {
        "colab": {
          "base_uri": "https://localhost:8080/",
          "height": 432
        },
        "id": "cYhRQEyRM4qC",
        "outputId": "234ab0a1-4d8b-4e5e-f313-96ed973728d3"
      },
      "source": [
        "#build a confusion matrix to visualize the performance of the model using seaborn\n",
        "from sklearn.metrics import classification_report\n",
        "print(classification_report(y_test,y_pred))\n",
        "\n",
        "from sklearn.metrics import confusion_matrix\n",
        "mat = confusion_matrix(y_test, y_pred)\n",
        "sns.heatmap(mat.T, square=True, annot=True, fmt='d', cbar=False,\n",
        "            )\n",
        "plt.xlabel('true label')\n",
        "plt.ylabel('predicted label');\n",
        "os.chdir('/content/drive/My Drive/AI_Thermal sytems_course_project/figures')\n",
        "plt.savefig('confusion_matrix_SVM.png', bbox_inches = 'tight', pad_inches = 0)"
      ],
      "execution_count": null,
      "outputs": [
        {
          "name": "stdout",
          "output_type": "stream",
          "text": [
            "              precision    recall  f1-score   support\n",
            "\n",
            "           0       0.67      0.33      0.44         6\n",
            "           1       0.69      0.90      0.78        10\n",
            "\n",
            "    accuracy                           0.69        16\n",
            "   macro avg       0.68      0.62      0.61        16\n",
            "weighted avg       0.68      0.69      0.66        16\n",
            "\n"
          ]
        },
        {
          "data": {
            "image/png": "[encoded data removed]",
            "text/plain": [
              "<Figure size 432x288 with 1 Axes>"
            ]
          },
          "metadata": {},
          "output_type": "display_data"
        }
      ]
    },
    {
      "cell_type": "code",
      "metadata": {
        "colab": {
          "base_uri": "https://localhost:8080/",
          "height": 363
        },
        "id": "oRm-_Dl57rp_",
        "outputId": "b527ce3f-858d-4b0b-8e4c-8ca2bc5ed7c2"
      },
      "source": [
        "import sklearn.metrics as metrics\n",
        "# calculate the fpr and tpr for all thresholds of the classification\n",
        "probs = model_tuned.predict_proba(X_test)\n",
        "preds = probs[:,1]\n",
        "fpr, tpr, threshold = metrics.roc_curve(y_test, preds)\n",
        "roc_auc = metrics.auc(fpr, tpr)\n",
        "\n",
        "print(fpr)\n",
        "print(tpr)\n",
        "# method I: plt\n",
        "import matplotlib.pyplot as plt\n",
        "plt.title('Receiver Operating Characteristic')\n",
        "plt.plot(fpr, tpr, 'b', label = 'AUC = %0.2f' % roc_auc)\n",
        "plt.legend(loc = 'lower right')\n",
        "plt.plot([0, 1], [0, 1],'r--')\n",
        "plt.xlim([0, 1])\n",
        "plt.ylim([0, 1])\n",
        "plt.ylabel('True Positive Rate')\n",
        "plt.xlabel('False Positive Rate')"
      ],
      "execution_count": null,
      "outputs": [
        {
          "name": "stdout",
          "output_type": "stream",
          "text": [
            "[0.         0.         0.         0.16666667 0.16666667 0.66666667\n",
            " 0.66666667 1.         1.        ]\n",
            "[0.  0.1 0.2 0.2 0.7 0.7 0.9 0.9 1. ]\n"
          ]
        },
        {
          "data": {
            "text/plain": [
              "Text(0.5, 0, 'False Positive Rate')"
            ]
          },
          "execution_count": 93,
          "metadata": {},
          "output_type": "execute_result"
        },
        {
          "data": {
            "image/png": "[encoded data removed]",
            "text/plain": [
              "<Figure size 432x288 with 1 Axes>"
            ]
          },
          "metadata": {},
          "output_type": "display_data"
        }
      ]
    },
    {
      "cell_type": "markdown",
      "metadata": {
        "id": "AtJ4RwnQNYmn"
      },
      "source": [
        "**Random Forest**"
      ]
    },
    {
      "cell_type": "code",
      "metadata": {
        "id": "xPnKIOPtVvL_"
      },
      "source": [
        "#Use grid search to come up with best set of parameters\n",
        "from sklearn.ensemble import RandomForestClassifier\n",
        "from sklearn.model_selection import GridSearchCV\n",
        "rf_params = {\"max_depth\": [2, 3, 5, 7, 8],\n",
        "            \"max_features\": [2, 3, 5, 7, 8],\n",
        "            \"n_estimators\": [10,500,1000],\n",
        "            \"min_samples_split\": [2,5,10]}\n",
        "\n",
        "rf_model = RandomForestClassifier(random_state = 27)\n",
        "\n",
        "rf_cv_model = GridSearchCV(rf_model, \n",
        "                           rf_params, \n",
        "                           cv = 5, \n",
        "                           n_jobs = -1, \n",
        "                           verbose = 2) \n",
        "\n",
        "rf_cv_model.fit(X_train, y_train)"
      ],
      "execution_count": null,
      "outputs": []
    },
    {
      "cell_type": "code",
      "metadata": {
        "id": "KuUnE1SLW5eg"
      },
      "source": [
        "print(\"Best Params: \" + str(rf_cv_model.best_params_))"
      ],
      "execution_count": null,
      "outputs": []
    },
    {
      "cell_type": "code",
      "metadata": {
        "colab": {
          "base_uri": "https://localhost:8080/"
        },
        "id": "cu7YILl1XDZF",
        "outputId": "47bf1602-f6f4-4d25-80fe-03e918d577b0"
      },
      "source": [
        "from sklearn.ensemble import RandomForestClassifier\n",
        "rf_tuned = RandomForestClassifier(random_state = 27, max_depth = 3, \n",
        "                                  max_features = 2, \n",
        "                                  min_samples_split = 10,\n",
        "                                  n_estimators = 10)\n",
        "rf_tuned.fit(X_train, y_train)\n",
        "y_pred = rf_tuned.predict(X_test)\n",
        "print ('test accuracy:', accuracy_score(y_test, y_pred))\n",
        "print(\"Number of mislabeled points out of a total %d points : %d\"  % (X_test.shape[0], (y_test != y_pred).sum()))\n",
        "y_hat = rf_tuned.predict(X_train)\n",
        "#compute our score to evaluate the performance of the fitting\n",
        "from sklearn.metrics import accuracy_score\n",
        "score = accuracy_score(y_test, y_pred) \n",
        "print('score_test=',score)\n",
        "score = accuracy_score(y_train, y_hat) \n",
        "print('score_train=',score)"
      ],
      "execution_count": null,
      "outputs": [
        {
          "name": "stdout",
          "output_type": "stream",
          "text": [
            "test accuracy: 0.875\n",
            "Number of mislabeled points out of a total 16 points : 2\n",
            "score_test= 0.875\n",
            "score_train= 0.8524590163934426\n"
          ]
        }
      ]
    },
    {
      "cell_type": "code",
      "metadata": {
        "colab": {
          "base_uri": "https://localhost:8080/",
          "height": 432
        },
        "id": "y64JRvB-GrFn",
        "outputId": "27036c4c-72f4-41b2-e1e1-99de5ff0ab55"
      },
      "source": [
        "#build a confusion matrix to visualize the performance of the model using seaborn\n",
        "from sklearn.metrics import classification_report\n",
        "print(classification_report(y_test,y_pred))\n",
        "\n",
        "from sklearn.metrics import confusion_matrix\n",
        "mat = confusion_matrix(y_test, y_pred)\n",
        "sns.heatmap(mat.T, square=True, annot=True, fmt='d', cbar=False,\n",
        "            )\n",
        "plt.xlabel('true label')\n",
        "plt.ylabel('predicted label');\n",
        "plt.savefig('confusion_matrix_RF.png', bbox_inches = 'tight', pad_inches = 0)"
      ],
      "execution_count": null,
      "outputs": [
        {
          "name": "stdout",
          "output_type": "stream",
          "text": [
            "              precision    recall  f1-score   support\n",
            "\n",
            "           0       1.00      0.67      0.80         6\n",
            "           1       0.83      1.00      0.91        10\n",
            "\n",
            "    accuracy                           0.88        16\n",
            "   macro avg       0.92      0.83      0.85        16\n",
            "weighted avg       0.90      0.88      0.87        16\n",
            "\n"
          ]
        },
        {
          "data": {
            "image/png": "[encoded data removed]",
            "text/plain": [
              "<Figure size 432x288 with 1 Axes>"
            ]
          },
          "metadata": {},
          "output_type": "display_data"
        }
      ]
    },
    {
      "cell_type": "code",
      "metadata": {
        "colab": {
          "base_uri": "https://localhost:8080/",
          "height": 618
        },
        "id": "KPWGr8RB8hGX",
        "outputId": "ba7c5cd2-1e6a-4226-8426-b2bc015eb8a9"
      },
      "source": [
        "import sklearn.metrics as metrics\n",
        "# calculate the fpr and tpr for all thresholds of the classification\n",
        "probs = rf_tuned.predict_proba(X_test)\n",
        "preds = probs[:,1]\n",
        "print(probs)\n",
        "fpr, tpr, threshold = metrics.roc_curve(y_test, preds)\n",
        "roc_auc = metrics.auc(fpr, tpr)\n",
        "\n",
        "print(fpr)\n",
        "print(tpr)\n",
        "# method I: plt\n",
        "import matplotlib.pyplot as plt\n",
        "plt.title('Receiver Operating Characteristic')\n",
        "plt.plot(fpr, tpr, 'g',linewidth=3, label = 'AUC = %0.2f' % roc_auc)\n",
        "plt.legend(loc = 'lower right')\n",
        "plt.plot([0, 1], [0, 1],'r--')\n",
        "plt.xlim([0, 1])\n",
        "plt.ylim([0, 1])\n",
        "plt.ylabel('True Positive Rate')\n",
        "plt.xlabel('False Positive Rate')"
      ],
      "execution_count": null,
      "outputs": [
        {
          "name": "stdout",
          "output_type": "stream",
          "text": [
            "[[0.14250672 0.85749328]\n",
            " [0.25300429 0.74699571]\n",
            " [0.41095238 0.58904762]\n",
            " [0.195721   0.804279  ]\n",
            " [0.30685961 0.69314039]\n",
            " [0.71507389 0.28492611]\n",
            " [0.3395936  0.6604064 ]\n",
            " [0.25300429 0.74699571]\n",
            " [0.15186632 0.84813368]\n",
            " [0.16607815 0.83392185]\n",
            " [0.30411741 0.69588259]\n",
            " [0.70793103 0.29206897]\n",
            " [0.11393529 0.88606471]\n",
            " [0.53924056 0.46075944]\n",
            " [0.16607815 0.83392185]\n",
            " [0.545      0.455     ]]\n",
            "[0. 0. 0. 0. 0. 0. 0. 1.]\n",
            "[0.  0.1 0.3 0.5 0.6 0.8 1.  1. ]\n"
          ]
        },
        {
          "data": {
            "text/plain": [
              "Text(0.5, 0, 'False Positive Rate')"
            ]
          },
          "execution_count": 109,
          "metadata": {},
          "output_type": "execute_result"
        },
        {
          "data": {
            "image/png": "[encoded data removed]",
            "text/plain": [
              "<Figure size 432x288 with 1 Axes>"
            ]
          },
          "metadata": {},
          "output_type": "display_data"
        }
      ]
    },
    {
      "cell_type": "markdown",
      "metadata": {
        "id": "W8y14B3p3Sds"
      },
      "source": [
        "**Decision Tree**"
      ]
    },
    {
      "cell_type": "code",
      "metadata": {
        "id": "9totLIaH3U7V"
      },
      "source": [
        "#Build a Decision tree model\n",
        "from sklearn import tree\n",
        "dec_tree = tree.DecisionTreeClassifier(random_state=27)\n",
        "dec_tree = dec_tree.fit(X_train, y_train)"
      ],
      "execution_count": null,
      "outputs": []
    },
    {
      "cell_type": "code",
      "metadata": {
        "id": "0LmpT7gO3tVJ"
      },
      "source": [
        "#Use grid search to come up with best set of parameters\n",
        "def Snippet_146_Ex_2():\n",
        "    print('**Optimizing hyper-parameters of a Decision Tree model using Grid Search in Python**\\n')\n",
        "\n",
        "\n",
        "    # importing libraries\n",
        "    from sklearn import decomposition, datasets\n",
        "    from sklearn import tree\n",
        "    from sklearn.pipeline import Pipeline\n",
        "    from sklearn.model_selection import GridSearchCV\n",
        "    from sklearn.preprocessing import StandardScaler\n",
        "\n",
        "    # Creating an standardscaler object\n",
        "    std_slc = StandardScaler()\n",
        "\n",
        "    # Creating a pca object\n",
        "    pca = decomposition.PCA()\n",
        "\n",
        "    # Creating a DecisionTreeClassifier\n",
        "    dec_tree = tree.DecisionTreeClassifier(random_state=27)\n",
        "\n",
        "    # Creating a pipeline of three steps. First, standardizing the data.\n",
        "    # Second, tranforming the data with PCA.\n",
        "    # Third, training a Decision Tree Classifier on the data.\n",
        "    pipe = Pipeline(steps=[('std_slc', std_slc),\n",
        "                           ('pca', pca),\n",
        "                           ('dec_tree', dec_tree)])\n",
        "\n",
        "    # Creating Parameter Space\n",
        "    # Creating a list of a sequence of integers from 1 to 30 (the number of features in X + 1)\n",
        "    n_components = list(range(1,X_train.shape[1]+1,1))\n",
        "\n",
        "    # Creating lists of parameter for Decision Tree Classifier\n",
        "    criterion = ['gini', 'entropy']\n",
        "    max_depth = [2,4,6,8,10,12]\n",
        "    min_samples_split = [2, 3]\n",
        "\n",
        "    # Creating a dictionary of all the parameter options \n",
        "    # Note that we can access the parameters of steps of a pipeline by using '__’\n",
        "    parameters = dict(pca__n_components=n_components,\n",
        "                      dec_tree__criterion=criterion,\n",
        "                      dec_tree__max_depth=max_depth,\n",
        "                      dec_tree__min_samples_split=min_samples_split)\n",
        "\n",
        "    # Conducting Parameter Optmization With Pipeline\n",
        "    # Creating a grid search object\n",
        "    clf_GS = GridSearchCV(pipe, parameters)\n",
        "\n",
        "    # Fitting the grid search\n",
        "    clf_GS.fit(X_train, y_train)\n",
        "\n",
        "    # Viewing The Best Parameters\n",
        "    print('Best Criterion:', clf_GS.best_estimator_.get_params()['dec_tree__criterion'])\n",
        "    print('Best max_depth:', clf_GS.best_estimator_.get_params()['dec_tree__max_depth'])\n",
        "    print('Best min_samples_split:', clf_GS.best_estimator_.get_params()['dec_tree__min_samples_split'])\n",
        "    print('Best Number Of Components:', clf_GS.best_estimator_.get_params()['pca__n_components'])\n",
        "    print(); print(clf_GS.best_estimator_.get_params()['dec_tree'])\n",
        "\n",
        "   \n",
        "Snippet_146_Ex_2()"
      ],
      "execution_count": null,
      "outputs": []
    },
    {
      "cell_type": "code",
      "metadata": {
        "colab": {
          "base_uri": "https://localhost:8080/",
          "height": 347
        },
        "id": "i-ItP7qe38ob",
        "outputId": "0e315ce0-a11c-4e45-f37c-722838e412b4"
      },
      "source": [
        "from sklearn import tree\n",
        "dec_tree_tuned = tree.DecisionTreeClassifier(random_state=27, max_depth = 4, \n",
        "                                  #max_features = 8, \n",
        "                                  criterion = 'gini',\n",
        "                                  min_samples_split = 2\n",
        "                                  #n_components = 1\n",
        "                                  )\n",
        "dec_tree_tuned.fit(X_train, y_train)\n",
        "y_pred = dec_tree_tuned.predict(X_test)\n",
        "print ('test accuracy:', accuracy_score(y_test, y_pred))\n",
        "print(\"Number of mislabeled points out of a total %d points : %d\"  % (X_test.shape[0], (y_test != y_pred).sum()))\n",
        "y_hat = dec_tree_tuned.predict(X_train)\n",
        "print ('train accuracy:', accuracy_score(y_train, y_hat))\n",
        "plt.hist(y_pred,edgecolor=\"black\")\n",
        "plt.xlabel(\"predicted label\")\n",
        "plt.ylabel('frequency')"
      ],
      "execution_count": null,
      "outputs": [
        {
          "name": "stdout",
          "output_type": "stream",
          "text": [
            "test accuracy: 0.875\n",
            "Number of mislabeled points out of a total 16 points : 2\n",
            "train accuracy: 0.9344262295081968\n"
          ]
        },
        {
          "data": {
            "text/plain": [
              "Text(0, 0.5, 'frequency')"
            ]
          },
          "execution_count": 111,
          "metadata": {},
          "output_type": "execute_result"
        },
        {
          "data": {
            "image/png": "[encoded data removed]",
            "text/plain": [
              "<Figure size 432x288 with 1 Axes>"
            ]
          },
          "metadata": {},
          "output_type": "display_data"
        }
      ]
    },
    {
      "cell_type": "code",
      "metadata": {
        "colab": {
          "base_uri": "https://localhost:8080/",
          "height": 432
        },
        "id": "v_4yMDGG4FTB",
        "outputId": "dabdecbf-3509-4af0-8d0f-87aa4c692f21"
      },
      "source": [
        "#build a confusion matrix to visualize the performance of the model using seaborn\n",
        "from sklearn.metrics import classification_report\n",
        "print(classification_report(y_test,y_pred))\n",
        "\n",
        "from sklearn.metrics import confusion_matrix\n",
        "mat = confusion_matrix(y_test, y_pred)\n",
        "sns.heatmap(mat.T, square=True, annot=True, fmt='d', cbar=False,\n",
        "            )\n",
        "plt.xlabel('true label')\n",
        "plt.ylabel('predicted label');\n",
        "os.chdir('/content/drive/My Drive/AI_Thermal sytems_course_project/figures')\n",
        "plt.savefig('confusion_matrix_DT.eps', bbox_inches = 'tight', pad_inches = 0)"
      ],
      "execution_count": null,
      "outputs": [
        {
          "name": "stdout",
          "output_type": "stream",
          "text": [
            "              precision    recall  f1-score   support\n",
            "\n",
            "           0       0.83      0.83      0.83         6\n",
            "           1       0.90      0.90      0.90        10\n",
            "\n",
            "    accuracy                           0.88        16\n",
            "   macro avg       0.87      0.87      0.87        16\n",
            "weighted avg       0.88      0.88      0.88        16\n",
            "\n"
          ]
        },
        {
          "data": {
            "image/png": "[encoded data removed]",
            "text/plain": [
              "<Figure size 432x288 with 1 Axes>"
            ]
          },
          "metadata": {},
          "output_type": "display_data"
        }
      ]
    },
    {
      "cell_type": "code",
      "metadata": {
        "colab": {
          "base_uri": "https://localhost:8080/",
          "height": 618
        },
        "id": "lqwi687J9-8F",
        "outputId": "8a800a9e-a222-4f5b-c209-380ef2f0ca13"
      },
      "source": [
        "import sklearn.metrics as metrics\n",
        "# calculate the fpr and tpr for all thresholds of the classification\n",
        "probs = dec_tree_tuned.predict_proba(X_test)\n",
        "preds = probs[:,1]\n",
        "print(probs)\n",
        "fpr, tpr, threshold = metrics.roc_curve(y_test, preds)\n",
        "roc_auc = metrics.auc(fpr, tpr)\n",
        "\n",
        "print(fpr)\n",
        "print(tpr)\n",
        "# method I: plt\n",
        "import matplotlib.pyplot as plt\n",
        "plt.title('Receiver Operating Characteristic')\n",
        "plt.plot(fpr, tpr, 'g',linewidth=3, label = 'AUC = %0.2f' % roc_auc)\n",
        "plt.legend(loc = 'lower right')\n",
        "plt.plot([0, 1], [0, 1],'r--')\n",
        "plt.xlim([0, 1])\n",
        "plt.ylim([0, 1])\n",
        "plt.ylabel('True Positive Rate')\n",
        "plt.xlabel('False Positive Rate')"
      ],
      "execution_count": null,
      "outputs": [
        {
          "name": "stdout",
          "output_type": "stream",
          "text": [
            "[[0.         1.        ]\n",
            " [0.         1.        ]\n",
            " [0.5        0.5       ]\n",
            " [0.         1.        ]\n",
            " [0.         1.        ]\n",
            " [1.         0.        ]\n",
            " [0.         1.        ]\n",
            " [0.66666667 0.33333333]\n",
            " [0.         1.        ]\n",
            " [0.         1.        ]\n",
            " [0.         1.        ]\n",
            " [0.71428571 0.28571429]\n",
            " [0.         1.        ]\n",
            " [0.71428571 0.28571429]\n",
            " [0.         1.        ]\n",
            " [1.         0.        ]]\n",
            "[0.         0.16666667 0.33333333 0.33333333 1.        ]\n",
            "[0.  0.9 0.9 1.  1. ]\n"
          ]
        },
        {
          "data": {
            "text/plain": [
              "Text(0.5, 0, 'False Positive Rate')"
            ]
          },
          "execution_count": 114,
          "metadata": {},
          "output_type": "execute_result"
        },
        {
          "data": {
            "image/png": "[encoded data removed]",
            "text/plain": [
              "<Figure size 432x288 with 1 Axes>"
            ]
          },
          "metadata": {},
          "output_type": "display_data"
        }
      ]
    },
    {
      "cell_type": "markdown",
      "metadata": {
        "id": "fb1qWzcVwnIz"
      },
      "source": [
        "**K nearest neighbors**"
      ]
    },
    {
      "cell_type": "code",
      "metadata": {
        "colab": {
          "base_uri": "https://localhost:8080/",
          "height": 405
        },
        "id": "dU3z7hBY5B8-",
        "outputId": "5eada131-412a-4cf8-fd03-075acfb1a8fd"
      },
      "source": [
        "#Build a KNN model\n",
        "from sklearn.neighbors import KNeighborsClassifier\n",
        "#Here we will manually try different k values to get the optimal value. k ranges from 1 to 15\n",
        "\n",
        "#create an empty list to store the accuracy for each k value. This will be later used for comparison\n",
        "train_scores = []\n",
        "\n",
        "#run this for loop to find the best k value\n",
        "for i in range(1,15):\n",
        "    #for the current loop assign k=i\n",
        "    knn = KNeighborsClassifier(i)\n",
        "    #the training data\n",
        "    knn.fit(X_train,y_train)\n",
        "    #predict the class label for the training data\n",
        "    pred_y_train=knn.predict(X_train)\n",
        "    #get the training accuracy\n",
        "    train_accuracy=accuracy_score(pred_y_train,y_train)\n",
        "    #append the training accuracy at a particular k value to the list.\n",
        "    train_scores.append(train_accuracy)\n",
        "\n",
        "plt.figure(figsize=(12,5))\n",
        "p = sns.lineplot(range(1,15),train_scores,marker='*',label='Train Score')\n",
        "plt.xlabel(\"K\")\n",
        "plt.ylabel(\"Accuracy\")"
      ],
      "execution_count": null,
      "outputs": [
        {
          "name": "stderr",
          "output_type": "stream",
          "text": [
            "/usr/local/lib/python3.7/dist-packages/seaborn/_decorators.py:43: FutureWarning: Pass the following variables as keyword args: x, y. From version 0.12, the only valid positional argument will be `data`, and passing other arguments without an explicit keyword will result in an error or misinterpretation.\n",
            "  FutureWarning\n"
          ]
        },
        {
          "data": {
            "text/plain": [
              "Text(0, 0.5, 'Accuracy')"
            ]
          },
          "execution_count": 115,
          "metadata": {},
          "output_type": "execute_result"
        },
        {
          "data": {
            "image/png": "[encoded data removed]",
            "text/plain": [
              "<Figure size 864x360 with 1 Axes>"
            ]
          },
          "metadata": {},
          "output_type": "display_data"
        }
      ]
    },
    {
      "cell_type": "code",
      "metadata": {
        "colab": {
          "base_uri": "https://localhost:8080/"
        },
        "id": "NeDtnB3hxMIC",
        "outputId": "484cb01a-5c2b-4e19-e3d2-20e0152b4e98"
      },
      "source": [
        "#assigning the best number of nearest neighbors (k)\n",
        "number_of_neighbors = 8\n",
        "knn = KNeighborsClassifier(number_of_neighbors)\n",
        "\n",
        "knn.fit(X_train,y_train)\n",
        "print ('test accuracy:', knn.score(X_test,y_test))\n",
        "print ('train accuracy:', knn.score(X_train,y_train))"
      ],
      "execution_count": null,
      "outputs": [
        {
          "name": "stdout",
          "output_type": "stream",
          "text": [
            "test accuracy: 0.8125\n",
            "train accuracy: 0.7540983606557377\n"
          ]
        }
      ]
    },
    {
      "cell_type": "code",
      "metadata": {
        "colab": {
          "base_uri": "https://localhost:8080/",
          "height": 432
        },
        "id": "UYbEeGVTxw8e",
        "outputId": "9cd9bf98-041a-4bf4-e54c-93e0ba66835d"
      },
      "source": [
        "#build a confusion matrix to visualize the performance of the model using seaborn\n",
        "from sklearn.metrics import classification_report\n",
        "y_pred = knn.predict(X_test)\n",
        "print(classification_report(y_test,y_pred))\n",
        "\n",
        "from sklearn.metrics import confusion_matrix\n",
        "mat = confusion_matrix(y_test, y_pred)\n",
        "sns.heatmap(mat.T, square=True, annot=True, fmt='d', cbar=False,\n",
        "            )\n",
        "plt.xlabel('true label')\n",
        "plt.ylabel('predicted label');"
      ],
      "execution_count": null,
      "outputs": [
        {
          "name": "stdout",
          "output_type": "stream",
          "text": [
            "              precision    recall  f1-score   support\n",
            "\n",
            "           0       1.00      0.50      0.67         6\n",
            "           1       0.77      1.00      0.87        10\n",
            "\n",
            "    accuracy                           0.81        16\n",
            "   macro avg       0.88      0.75      0.77        16\n",
            "weighted avg       0.86      0.81      0.79        16\n",
            "\n"
          ]
        },
        {
          "data": {
            "image/png": "[encoded data removed]",
            "text/plain": [
              "<Figure size 432x288 with 1 Axes>"
            ]
          },
          "metadata": {},
          "output_type": "display_data"
        }
      ]
    },
    {
      "cell_type": "code",
      "metadata": {
        "colab": {
          "base_uri": "https://localhost:8080/",
          "height": 635
        },
        "id": "Dd5u92v7-eB5",
        "outputId": "5ec59e6d-c230-4680-ed88-827d61c691a2"
      },
      "source": [
        "import sklearn.metrics as metrics\n",
        "# calculate the fpr and tpr for all thresholds of the classification\n",
        "probs = knn.predict_proba(X_test)\n",
        "preds = probs[:,1]\n",
        "print(probs)\n",
        "fpr, tpr, threshold = metrics.roc_curve(y_test, preds)\n",
        "roc_auc = metrics.auc(fpr, tpr)\n",
        "\n",
        "print(fpr)\n",
        "print(tpr)\n",
        "# method I: plt\n",
        "import matplotlib.pyplot as plt\n",
        "plt.title('Receiver Operating Characteristic')\n",
        "plt.plot(fpr, tpr, 'g',linewidth=3, label = 'AUC = %0.2f' % roc_auc)\n",
        "plt.legend(loc = 'lower right')\n",
        "plt.plot([0, 1], [0, 1],'r--')\n",
        "plt.xlim([0, 1])\n",
        "plt.ylim([0, 1])\n",
        "plt.ylabel('True Positive Rate')\n",
        "plt.xlabel('False Positive Rate')"
      ],
      "execution_count": null,
      "outputs": [
        {
          "name": "stdout",
          "output_type": "stream",
          "text": [
            "[[0.25  0.75 ]\n",
            " [0.125 0.875]\n",
            " [0.125 0.875]\n",
            " [0.125 0.875]\n",
            " [0.25  0.75 ]\n",
            " [0.375 0.625]\n",
            " [0.5   0.5  ]\n",
            " [0.    1.   ]\n",
            " [0.25  0.75 ]\n",
            " [0.375 0.625]\n",
            " [0.375 0.625]\n",
            " [0.5   0.5  ]\n",
            " [0.25  0.75 ]\n",
            " [0.125 0.875]\n",
            " [0.375 0.625]\n",
            " [0.625 0.375]]\n",
            "[0.         0.         0.33333333 0.33333333 0.5        0.83333333\n",
            " 1.        ]\n",
            "[0.  0.1 0.3 0.7 1.  1.  1. ]\n"
          ]
        },
        {
          "data": {
            "text/plain": [
              "Text(0.5, 0, 'False Positive Rate')"
            ]
          },
          "execution_count": 118,
          "metadata": {},
          "output_type": "execute_result"
        },
        {
          "data": {
            "image/png": "[encoded data removed]",
            "text/plain": [
              "<Figure size 432x288 with 1 Axes>"
            ]
          },
          "metadata": {},
          "output_type": "display_data"
        }
      ]
    },
    {
      "cell_type": "markdown",
      "metadata": {
        "id": "Y7WYVxLXx9xG"
      },
      "source": [
        "**XGBoost**"
      ]
    },
    {
      "cell_type": "code",
      "metadata": {
        "id": "cCV_KJUoyBmd"
      },
      "source": [
        "import numpy as np\n",
        "\n",
        "from scipy.stats import uniform, randint\n",
        "\n",
        "from sklearn.datasets import load_breast_cancer, load_diabetes, load_wine\n",
        "from sklearn.metrics import auc, accuracy_score, confusion_matrix, mean_squared_error\n",
        "from sklearn.model_selection import cross_val_score, GridSearchCV, KFold, RandomizedSearchCV, train_test_split\n",
        "\n",
        "import xgboost as xgb"
      ],
      "execution_count": null,
      "outputs": []
    },
    {
      "cell_type": "code",
      "metadata": {
        "colab": {
          "base_uri": "https://localhost:8080/"
        },
        "id": "kTXa8ro5yD09",
        "outputId": "3b6fcc58-9d5b-4443-8a73-da0407ec3468"
      },
      "source": [
        "#Build an XGBoost model\n",
        "xgb_model = xgb.XGBClassifier(random_state=27)                                 #for 2 classes\n",
        "xgb_model.fit(X_train, y_train)"
      ],
      "execution_count": null,
      "outputs": [
        {
          "data": {
            "text/plain": [
              "XGBClassifier(base_score=0.5, booster='gbtree', colsample_bylevel=1,\n",
              "              colsample_bynode=1, colsample_bytree=1, gamma=0,\n",
              "              learning_rate=0.1, max_delta_step=0, max_depth=3,\n",
              "              min_child_weight=1, missing=None, n_estimators=100, n_jobs=1,\n",
              "              nthread=None, objective='binary:logistic', random_state=27,\n",
              "              reg_alpha=0, reg_lambda=1, scale_pos_weight=1, seed=None,\n",
              "              silent=None, subsample=1, verbosity=1)"
            ]
          },
          "execution_count": 120,
          "metadata": {},
          "output_type": "execute_result"
        }
      ]
    },
    {
      "cell_type": "code",
      "metadata": {
        "id": "QGkrPbZkyICT"
      },
      "source": [
        "#Use random search to come up with best set of parameters\n",
        "def report_best_scores(results, n_top=3):\n",
        "    for i in range(1, n_top + 1):\n",
        "        candidates = np.flatnonzero(results['rank_test_score'] == i)\n",
        "        for candidate in candidates:\n",
        "            print(\"Model with rank: {0}\".format(i))\n",
        "            print(\"Mean validation score: {0:.3f} (std: {1:.3f})\".format(\n",
        "                  results['mean_test_score'][candidate],\n",
        "                  results['std_test_score'][candidate]))\n",
        "            print(\"Parameters: {0}\".format(results['params'][candidate]))\n",
        "            print(\"\")\n",
        "\n",
        "params = {\n",
        "    \"colsample_bytree\": uniform(0.7, 0.3),\n",
        "    \"gamma\": uniform(0, 0.5),\n",
        "    \"learning_rate\": uniform(0.03, 0.3), # default 0.1 \n",
        "    \"max_depth\": randint(2, 6), # default 3\n",
        "    \"n_estimators\": randint(100, 150), # default 100\n",
        "    \"subsample\": uniform(0.6, 0.4)\n",
        "}\n",
        "\n",
        "search = RandomizedSearchCV(xgb_model, param_distributions=params, random_state=27, n_iter=200, cv=5, verbose=1, n_jobs=1, return_train_score=True)\n",
        "\n",
        "search.fit(X_train, y_train)\n",
        "\n",
        "report_best_scores(search.cv_results_, 1)"
      ],
      "execution_count": null,
      "outputs": []
    },
    {
      "cell_type": "code",
      "metadata": {
        "colab": {
          "base_uri": "https://localhost:8080/",
          "height": 347
        },
        "id": "dCQL7CHzyNbS",
        "outputId": "d3dfae59-f0e1-4efc-cbcc-884eed4a55db"
      },
      "source": [
        "xgb_tuned = xgb.XGBClassifier(colsample_bytree= 0.9680394020382563, gamma= 0.21670560802495736, learning_rate= 0.052301488322145234, max_depth= 4, n_estimators= 114, subsample=  0.6125853011253446, random_state=27)\n",
        "xgb_tuned.fit(X_train, y_train)\n",
        "y_pred = xgb_tuned.predict(X_test)\n",
        "print ('test accuracy:', accuracy_score(y_test, y_pred))\n",
        "print(\"Number of mislabeled points out of a total %d points : %d\"  % (X_test.shape[0], (y_test != y_pred).sum()))\n",
        "y_hat = xgb_tuned.predict(X_train)\n",
        "print ('train accuracy:', accuracy_score(y_train, y_hat))\n",
        "plt.hist(y_pred,edgecolor=\"black\")\n",
        "plt.xlabel(\"predicted label\")\n",
        "plt.ylabel('frequency')"
      ],
      "execution_count": null,
      "outputs": [
        {
          "name": "stdout",
          "output_type": "stream",
          "text": [
            "test accuracy: 0.875\n",
            "Number of mislabeled points out of a total 16 points : 2\n",
            "train accuracy: 0.9508196721311475\n"
          ]
        },
        {
          "data": {
            "text/plain": [
              "Text(0, 0.5, 'frequency')"
            ]
          },
          "execution_count": 121,
          "metadata": {},
          "output_type": "execute_result"
        },
        {
          "data": {
            "image/png": "[encoded data removed]",
            "text/plain": [
              "<Figure size 432x288 with 1 Axes>"
            ]
          },
          "metadata": {},
          "output_type": "display_data"
        }
      ]
    },
    {
      "cell_type": "code",
      "metadata": {
        "colab": {
          "base_uri": "https://localhost:8080/",
          "height": 432
        },
        "id": "obg1rZa2y8Yi",
        "outputId": "144d9d4b-7a88-4268-8c25-b0d483bdd952"
      },
      "source": [
        "#build a confusion matrix to visualize the performance of the model using seaborn\n",
        "from sklearn.metrics import classification_report\n",
        "print(classification_report(y_test,y_pred))\n",
        "\n",
        "from sklearn.metrics import confusion_matrix\n",
        "mat = confusion_matrix(y_test, y_pred)\n",
        "sns.heatmap(mat.T, square=True, annot=True, fmt='d', cbar=False,\n",
        "            )\n",
        "plt.xlabel('true label')\n",
        "plt.ylabel('predicted label');\n",
        "plt.savefig('confusion_matrix_XGBoost.png', bbox_inches = 'tight', pad_inches = 0)"
      ],
      "execution_count": null,
      "outputs": [
        {
          "name": "stdout",
          "output_type": "stream",
          "text": [
            "              precision    recall  f1-score   support\n",
            "\n",
            "           0       0.83      0.83      0.83         6\n",
            "           1       0.90      0.90      0.90        10\n",
            "\n",
            "    accuracy                           0.88        16\n",
            "   macro avg       0.87      0.87      0.87        16\n",
            "weighted avg       0.88      0.88      0.88        16\n",
            "\n"
          ]
        },
        {
          "data": {
            "image/png": "[encoded data removed]",
            "text/plain": [
              "<Figure size 432x288 with 1 Axes>"
            ]
          },
          "metadata": {},
          "output_type": "display_data"
        }
      ]
    },
    {
      "cell_type": "code",
      "metadata": {
        "colab": {
          "base_uri": "https://localhost:8080/",
          "height": 312
        },
        "id": "J7fxD1XJ-uyJ",
        "outputId": "17f17b47-42be-4364-8093-184c2b12f59d"
      },
      "source": [
        "import sklearn.metrics as metrics\n",
        "# calculate the fpr and tpr for all thresholds of the classification\n",
        "probs = xgb_tuned.predict_proba(X_test)\n",
        "preds = probs[:,1]\n",
        "\n",
        "fpr, tpr, threshold = metrics.roc_curve(y_test, preds)\n",
        "roc_auc = metrics.auc(fpr, tpr)\n",
        "# method I: plt\n",
        "import matplotlib.pyplot as plt\n",
        "plt.title('Receiver Operating Characteristic')\n",
        "plt.plot(fpr, tpr, 'g',linewidth=3, label = 'AUC = %0.2f' % roc_auc)\n",
        "plt.legend(loc = 'lower right')\n",
        "plt.plot([0, 1], [0, 1],'r--')\n",
        "plt.xlim([0, 1])\n",
        "plt.ylim([0, 1])\n",
        "plt.ylabel('True Positive Rate')\n",
        "plt.xlabel('False Positive Rate')"
      ],
      "execution_count": null,
      "outputs": [
        {
          "data": {
            "text/plain": [
              "Text(0.5, 0, 'False Positive Rate')"
            ]
          },
          "execution_count": 134,
          "metadata": {},
          "output_type": "execute_result"
        },
        {
          "data": {
            "image/png": "[encoded data removed]",
            "text/plain": [
              "<Figure size 432x288 with 1 Axes>"
            ]
          },
          "metadata": {},
          "output_type": "display_data"
        }
      ]
    },
    {
      "cell_type": "markdown",
      "metadata": {
        "id": "X9weGYFMzF0J"
      },
      "source": [
        "**Logistic Regression**"
      ]
    },
    {
      "cell_type": "code",
      "metadata": {
        "id": "mV-9QkxJzKgN"
      },
      "source": [
        "#Logistic regression model\n",
        "\n",
        "#import the necessary functions\n",
        "import sklearn\n",
        "from sklearn.metrics import accuracy_score\n",
        "from sklearn.linear_model import LogisticRegression\n",
        "\n",
        "#define an instance of the LogisticRegression class\n",
        "model = LogisticRegression(penalty=\"l2\",C=1.0,fit_intercept=True,max_iter=1000)  \n",
        "'''\n",
        "penalty= the regularization applied on the model. 'l1' or 'l2'\n",
        "C= the inverse of regularization strength\n",
        "fit_intercept= have the beta0 term as well in the equation\n",
        "max_iter= maximum number of iterations\n",
        "'''\n",
        "# fit the model on the training set\n",
        "model.fit(X_train, y_train) # fit function determines the coefficients using the maximum likelihood estimate (MLE) method.\n",
        "\n",
        "y_hat = model.predict(X_train) "
      ],
      "execution_count": null,
      "outputs": []
    },
    {
      "cell_type": "code",
      "metadata": {
        "id": "VXvFwb8ezWve"
      },
      "source": [
        "#Tune the hyper parameters using the grid search\n",
        "\n",
        "# defining parameter range \n",
        "param_grid = {'C': [0.1, 1, 10, 100, 1000],  \n",
        "              #'gamma': [1, 0.1, 0.01, 0.001, 0.0001], \n",
        "              'penalty': ['l1', 'l2', 'elasticnet']}  \n",
        "  \n",
        "grid = GridSearchCV(model, param_grid, refit = True, verbose = 0, cv = 5) \n",
        "  \n",
        "# fitting the model for grid search \n",
        "grid.fit(X_train, y_train) "
      ],
      "execution_count": null,
      "outputs": []
    },
    {
      "cell_type": "code",
      "metadata": {
        "id": "b-QZWYdozZuz"
      },
      "source": [
        "# print best parameter after tuning \n",
        "print(grid.best_params_) \n",
        "  \n",
        "# print how our model looks after hyper-parameter tuning \n",
        "print(grid.best_estimator_) "
      ],
      "execution_count": null,
      "outputs": []
    },
    {
      "cell_type": "code",
      "metadata": {
        "colab": {
          "base_uri": "https://localhost:8080/"
        },
        "id": "_6nO3QtSzdvd",
        "outputId": "0154674b-2c77-435f-fe58-8a70769793c5"
      },
      "source": [
        "model_tuned = LogisticRegression(penalty='l2',C=1000,max_iter=1000)\n",
        "model_tuned.fit(X_train,y_train)"
      ],
      "execution_count": null,
      "outputs": [
        {
          "data": {
            "text/plain": [
              "LogisticRegression(C=1000, class_weight=None, dual=False, fit_intercept=True,\n",
              "                   intercept_scaling=1, l1_ratio=None, max_iter=1000,\n",
              "                   multi_class='auto', n_jobs=None, penalty='l2',\n",
              "                   random_state=None, solver='lbfgs', tol=0.0001, verbose=0,\n",
              "                   warm_start=False)"
            ]
          },
          "execution_count": 136,
          "metadata": {},
          "output_type": "execute_result"
        }
      ]
    },
    {
      "cell_type": "code",
      "metadata": {
        "colab": {
          "base_uri": "https://localhost:8080/"
        },
        "id": "7tWcwm1Rzjdy",
        "outputId": "e1f05948-d40f-4c8f-d1e1-04dbbc3ddfc5"
      },
      "source": [
        "y_hat = model_tuned.predict(X_train)\n",
        "score = accuracy_score(y_train, y_hat)\n",
        "print('train accuracy:', score)\n",
        "y_pred = model_tuned.predict(X_test)\n",
        "score = accuracy_score(y_test, y_pred)\n",
        "print('test accuracy:', score)"
      ],
      "execution_count": null,
      "outputs": [
        {
          "name": "stdout",
          "output_type": "stream",
          "text": [
            "train accuracy: 0.7868852459016393\n",
            "test accuracy: 0.8125\n"
          ]
        }
      ]
    },
    {
      "cell_type": "code",
      "metadata": {
        "colab": {
          "base_uri": "https://localhost:8080/",
          "height": 432
        },
        "id": "uFVGYx7Sz2PS",
        "outputId": "6324db73-5e00-4f8a-d345-0bcc1fe5d2a4"
      },
      "source": [
        "#build a confusion matrix to visualize the performance of the model using seaborn\n",
        "from sklearn.metrics import classification_report\n",
        "print(classification_report(y_test,y_pred))\n",
        "\n",
        "from sklearn.metrics import confusion_matrix\n",
        "mat = confusion_matrix(y_test, y_pred)\n",
        "sns.heatmap(mat.T, square=True, annot=True, fmt='d', cbar=False,\n",
        "            )\n",
        "plt.xlabel('true label')\n",
        "plt.ylabel('predicted label');"
      ],
      "execution_count": null,
      "outputs": [
        {
          "name": "stdout",
          "output_type": "stream",
          "text": [
            "              precision    recall  f1-score   support\n",
            "\n",
            "           0       0.80      0.67      0.73         6\n",
            "           1       0.82      0.90      0.86        10\n",
            "\n",
            "    accuracy                           0.81        16\n",
            "   macro avg       0.81      0.78      0.79        16\n",
            "weighted avg       0.81      0.81      0.81        16\n",
            "\n"
          ]
        },
        {
          "data": {
            "image/png": "[encoded data removed]",
            "text/plain": [
              "<Figure size 432x288 with 1 Axes>"
            ]
          },
          "metadata": {},
          "output_type": "display_data"
        }
      ]
    },
    {
      "cell_type": "code",
      "metadata": {
        "colab": {
          "base_uri": "https://localhost:8080/",
          "height": 312
        },
        "id": "zrxdmAdABRi9",
        "outputId": "c00a9b9c-4b8d-4be3-8c91-c0ab0fe072b1"
      },
      "source": [
        "import sklearn.metrics as metrics\n",
        "# calculate the fpr and tpr for all thresholds of the classification\n",
        "probs = model_tuned.predict_proba(X_test)\n",
        "preds = probs[:,1]\n",
        "\n",
        "fpr, tpr, threshold = metrics.roc_curve(y_test, preds)\n",
        "roc_auc = metrics.auc(fpr, tpr)\n",
        "# method I: plt\n",
        "import matplotlib.pyplot as plt\n",
        "plt.title('Receiver Operating Characteristic')\n",
        "plt.plot(fpr, tpr, 'g',linewidth=3, label = 'AUC = %0.2f' % roc_auc)\n",
        "plt.legend(loc = 'lower right')\n",
        "plt.plot([0, 1], [0, 1],'r--')\n",
        "plt.xlim([0, 1])\n",
        "plt.ylim([0, 1])\n",
        "plt.ylabel('True Positive Rate')\n",
        "plt.xlabel('False Positive Rate')"
      ],
      "execution_count": null,
      "outputs": [
        {
          "data": {
            "text/plain": [
              "Text(0.5, 0, 'False Positive Rate')"
            ]
          },
          "execution_count": 139,
          "metadata": {},
          "output_type": "execute_result"
        },
        {
          "data": {
            "image/png": "[encoded data removed]",
            "text/plain": [
              "<Figure size 432x288 with 1 Axes>"
            ]
          },
          "metadata": {},
          "output_type": "display_data"
        }
      ]
    },
    {
      "cell_type": "markdown",
      "metadata": {
        "id": "qoetz3DH0AZH"
      },
      "source": [
        "**Neural Network**"
      ]
    },
    {
      "cell_type": "code",
      "metadata": {
        "id": "9SEWHfO4XKcZ"
      },
      "source": [
        "from keras.layers import *\n",
        "from keras.models import *\n",
        "import keras\n",
        "from keras.models import Sequential\n",
        "from keras.layers import Dense, Dropout, Flatten\n",
        "import numpy\n",
        "from sklearn.model_selection import GridSearchCV\n",
        "from keras.wrappers.scikit_learn import KerasClassifier\n",
        "#from keras.optimizers import SGD\n",
        "from tensorflow.keras.optimizers import SGD\n",
        "from keras.constraints import maxnorm\n",
        "import tensorflow as tf\n",
        "tf.random.set_seed(27)"
      ],
      "execution_count": null,
      "outputs": []
    },
    {
      "cell_type": "code",
      "metadata": {
        "colab": {
          "base_uri": "https://localhost:8080/",
          "height": 559
        },
        "id": "WlBXrUNbQXJe",
        "outputId": "198fd5c1-1a7d-431c-f0cd-12872e03b477"
      },
      "source": [
        "#Predict using the best model\n",
        "import tensorflow as tf\n",
        "tf.random.set_seed(27)\n",
        "\n",
        "activation='relu' # or linear\n",
        "dropout_rate=0.0 # or 0.2\n",
        "init_mode='normal'\n",
        "weight_constraint=1 # or  4\n",
        "optimizer='adam' # or SGD\n",
        "lr = 0.01\n",
        "#momemntum=0\n",
        "# create model\n",
        "neurons = 32\n",
        "number_of_classes = len(np.unique(y_test))\n",
        "hidden_layers = 1\n",
        "\n",
        "model = Sequential()\n",
        "for i in range(hidden_layers):\n",
        "  model.add(Dense(neurons, \n",
        "                     kernel_initializer=init_mode, \n",
        "                    activation=activation,\n",
        "                    kernel_constraint=maxnorm(weight_constraint)))\n",
        "  model.add(Dropout(dropout_rate)) \n",
        "model.add(Dense(number_of_classes, kernel_initializer=init_mode, activation='softmax'))\n",
        "# Compile model\n",
        "model.compile(loss='sparse_categorical_crossentropy', \n",
        "                  optimizer=optimizer, \n",
        "                  metrics=['accuracy'])\n",
        "  \n",
        "history = model.fit(X_train, y_train, epochs = 50, batch_size=1, verbose=0)\n",
        "# plot the training loss vs number of epochs\n",
        "plt.figure()\n",
        "plt.plot(history.history['loss'],label='training loss')\n",
        "plt.legend()\n",
        "plt.xlabel('Epoch')\n",
        "plt.ylabel('Loss')\n",
        "\n",
        "plt.figure()\n",
        "plt.plot(history.history['accuracy'],label='training accuracy')\n",
        "plt.legend()\n",
        "plt.xlabel('Epoch')\n",
        "plt.ylabel('Accuracy')\n",
        "print(model)"
      ],
      "execution_count": null,
      "outputs": [
        {
          "name": "stdout",
          "output_type": "stream",
          "text": [
            "<keras.engine.sequential.Sequential object at 0x7fcb04815810>\n"
          ]
        },
        {
          "data": {
            "image/png": "[encoded data removed]",
            "text/plain": [
              "<Figure size 432x288 with 1 Axes>"
            ]
          },
          "metadata": {},
          "output_type": "display_data"
        },
        {
          "data": {
            "image/png": "[encoded data removed]",
            "text/plain": [
              "<Figure size 432x288 with 1 Axes>"
            ]
          },
          "metadata": {},
          "output_type": "display_data"
        }
      ]
    },
    {
      "cell_type": "code",
      "metadata": {
        "colab": {
          "base_uri": "https://localhost:8080/"
        },
        "id": "O1jF9Ytu-89Q",
        "outputId": "e37771ca-20ea-421f-c2d7-1f4fb4048aea"
      },
      "source": [
        "# evaluate the trained model on the test dataset\n",
        "#y_pred = model.predict_classes(X_test)\n",
        "y_pred = model.predict(X_test)\n",
        "y_pred=np.argmax(y_pred,axis=1)\n",
        "print(y_pred)\n",
        "from sklearn.metrics import accuracy_score\n",
        "score = accuracy_score(y_test, y_pred)\n",
        "print('test accuracy:', score)"
      ],
      "execution_count": null,
      "outputs": [
        {
          "name": "stdout",
          "output_type": "stream",
          "text": [
            "[1 1 1 1 1 0 1 1 1 1 0 0 1 0 1 0]\n",
            "test accuracy: 0.8125\n"
          ]
        }
      ]
    },
    {
      "cell_type": "code",
      "metadata": {
        "colab": {
          "base_uri": "https://localhost:8080/"
        },
        "id": "1wijH8u2FPbI",
        "outputId": "ff8df654-7369-4083-c26b-14f456655dd4"
      },
      "source": [
        "score = model.evaluate(X_test, y_test, verbose=0)\n",
        "print('Test loss:', score[0])\n",
        "print('Test accuracy:', score[1])"
      ],
      "execution_count": null,
      "outputs": [
        {
          "name": "stdout",
          "output_type": "stream",
          "text": [
            "Test loss: 0.4301273226737976\n",
            "Test accuracy: 0.8125\n"
          ]
        }
      ]
    },
    {
      "cell_type": "code",
      "metadata": {
        "colab": {
          "base_uri": "https://localhost:8080/",
          "height": 432
        },
        "id": "C9nQCans2B3o",
        "outputId": "93a73415-99c4-4b64-d3f7-811d68facf79"
      },
      "source": [
        "#build a confusion matrix to visualize the performance of the model using seaborn\n",
        "from sklearn.metrics import classification_report\n",
        "print(classification_report(y_test,y_pred))\n",
        "\n",
        "from sklearn.metrics import confusion_matrix\n",
        "mat = confusion_matrix(y_test, y_pred)\n",
        "sns.heatmap(mat.T, square=True, annot=True, fmt='d', cbar=False,\n",
        "            )\n",
        "plt.xlabel('true label')\n",
        "plt.ylabel('predicted label');"
      ],
      "execution_count": null,
      "outputs": [
        {
          "name": "stdout",
          "output_type": "stream",
          "text": [
            "              precision    recall  f1-score   support\n",
            "\n",
            "           0       0.80      0.67      0.73         6\n",
            "           1       0.82      0.90      0.86        10\n",
            "\n",
            "    accuracy                           0.81        16\n",
            "   macro avg       0.81      0.78      0.79        16\n",
            "weighted avg       0.81      0.81      0.81        16\n",
            "\n"
          ]
        },
        {
          "data": {
            "image/png": "[encoded data removed]",
            "text/plain": [
              "<Figure size 432x288 with 1 Axes>"
            ]
          },
          "metadata": {},
          "output_type": "display_data"
        }
      ]
    },
    {
      "cell_type": "code",
      "metadata": {
        "colab": {
          "base_uri": "https://localhost:8080/",
          "height": 312
        },
        "id": "K1pSrP1mFdYC",
        "outputId": "b4b359a8-28d6-466b-abcc-f26db380fc48"
      },
      "source": [
        "import sklearn.metrics as metrics\n",
        "# calculate the fpr and tpr for all thresholds of the classification\n",
        "probs = model.predict(X_test)\n",
        "preds = probs[:,1]\n",
        "\n",
        "fpr, tpr, threshold = metrics.roc_curve(y_test, preds)\n",
        "roc_auc = metrics.auc(fpr, tpr)\n",
        "# method I: plt\n",
        "import matplotlib.pyplot as plt\n",
        "plt.title('Receiver Operating Characteristic')\n",
        "plt.plot(fpr, tpr, 'g',linewidth=3, label = 'AUC = %0.2f' % roc_auc)\n",
        "plt.legend(loc = 'lower right')\n",
        "plt.plot([0, 1], [0, 1],'r--')\n",
        "plt.xlim([0, 1])\n",
        "plt.ylim([0, 1])\n",
        "plt.ylabel('True Positive Rate')\n",
        "plt.xlabel('False Positive Rate')"
      ],
      "execution_count": null,
      "outputs": [
        {
          "data": {
            "text/plain": [
              "Text(0.5, 0, 'False Positive Rate')"
            ]
          },
          "execution_count": 183,
          "metadata": {},
          "output_type": "execute_result"
        },
        {
          "data": {
            "image/png": "[encoded data removed]",
            "text/plain": [
              "<Figure size 432x288 with 1 Axes>"
            ]
          },
          "metadata": {},
          "output_type": "display_data"
        }
      ]
    },
    {
      "cell_type": "markdown",
      "metadata": {
        "id": "FkGoWUYE3UCV"
      },
      "source": [
        "**Extra Tree Classifier**"
      ]
    },
    {
      "cell_type": "code",
      "metadata": {
        "colab": {
          "background_save": true
        },
        "id": "Us1GoqJt3qv9",
        "outputId": "bff97674-f203-4f4a-a924-32b9970f9b5b"
      },
      "source": [
        "###Tunning Extra Trees\n",
        "from sklearn.ensemble import ExtraTreesClassifier\n",
        "from sklearn.model_selection import GridSearchCV\n",
        "gsc = GridSearchCV(\n",
        "    estimator=ExtraTreesClassifier(random_state=27),\n",
        "    param_grid={\n",
        "        'n_estimators': range(50,150,5),\n",
        "        'criterion':['gini','entropy'],\n",
        "        #'max_features': range(50,401,50),\n",
        "        'min_samples_leaf': range(2,20,5),\n",
        "        'min_samples_split': range(2,20,5),\n",
        "    },\n",
        "    scoring='accuracy',\n",
        "    cv=5,\n",
        "    verbose = 0\n",
        ")\n",
        "grid = gsc.fit(X_train, y_train)\n",
        "gsc.best_params_\n",
        "print(gsc.best_params_)"
      ],
      "execution_count": null,
      "outputs": [
        {
          "name": "stdout",
          "output_type": "stream",
          "text": [
            "{'criterion': 'entropy', 'min_samples_leaf': 2, 'min_samples_split': 2, 'n_estimators': 55}\n"
          ]
        }
      ]
    },
    {
      "cell_type": "code",
      "metadata": {
        "colab": {
          "base_uri": "https://localhost:8080/"
        },
        "id": "FntS6QRW4QOp",
        "outputId": "7a7fdbf6-80de-4a9a-ba24-b4a5588e3b52"
      },
      "source": [
        "model_tuned=ExtraTreesClassifier(random_state = 27, criterion= 'entropy', min_samples_leaf= 2, min_samples_split= 2, n_estimators= 55)\n",
        "model_tuned.fit(X_train, y_train)\n",
        "y_hat = model_tuned.predict(X_train)\n",
        "y_pred = model_tuned.predict(X_test)\n",
        "print(\"Number of mislabeled points out of a total %d points : %d\"  % (X_test.shape[0], (y_test != y_pred).sum()))"
      ],
      "execution_count": 35,
      "outputs": [
        {
          "output_type": "stream",
          "name": "stdout",
          "text": [
            "Number of mislabeled points out of a total 16 points : 4\n"
          ]
        }
      ]
    },
    {
      "cell_type": "code",
      "metadata": {
        "colab": {
          "base_uri": "https://localhost:8080/"
        },
        "id": "iSZ9Lpc94tKM",
        "outputId": "6d152d62-40f0-407c-db2f-f806ae7f9c2f"
      },
      "source": [
        "#compute our score to evaluate the performance of the fitting\n",
        "from sklearn.metrics import accuracy_score\n",
        "score = accuracy_score(y_test, y_pred) \n",
        "print('score_test=',score)\n",
        "score = accuracy_score(y_train, y_hat) \n",
        "print('score_train=',score)"
      ],
      "execution_count": null,
      "outputs": [
        {
          "name": "stdout",
          "output_type": "stream",
          "text": [
            "score_test= 0.75\n",
            "score_train= 0.9672131147540983\n"
          ]
        }
      ]
    },
    {
      "cell_type": "code",
      "metadata": {
        "colab": {
          "base_uri": "https://localhost:8080/",
          "height": 432
        },
        "id": "h6hueVzY4vuv",
        "outputId": "9aa1ca91-88e4-4bf5-d071-7adae0c6bd9e"
      },
      "source": [
        "from sklearn.metrics import classification_report\n",
        "print(classification_report(y_test,y_pred))\n",
        "\n",
        "from sklearn.metrics import confusion_matrix\n",
        "mat = confusion_matrix(y_test, y_pred)\n",
        "sns.heatmap(mat.T, square=True, annot=True, fmt='d', cbar=False,\n",
        "            )\n",
        "plt.xlabel('true label')\n",
        "plt.ylabel('predicted label');\n",
        "os.chdir('/content/drive/My Drive/AI_Thermal sytems_course_project/figures')\n",
        "plt.savefig('confusion_matrix_ET.png', bbox_inches = 'tight', pad_inches = 0)"
      ],
      "execution_count": null,
      "outputs": [
        {
          "name": "stdout",
          "output_type": "stream",
          "text": [
            "              precision    recall  f1-score   support\n",
            "\n",
            "           0       0.75      0.50      0.60         6\n",
            "           1       0.75      0.90      0.82        10\n",
            "\n",
            "    accuracy                           0.75        16\n",
            "   macro avg       0.75      0.70      0.71        16\n",
            "weighted avg       0.75      0.75      0.74        16\n",
            "\n"
          ]
        },
        {
          "data": {
            "image/png": "[encoded data removed]",
            "text/plain": [
              "<Figure size 432x288 with 1 Axes>"
            ]
          },
          "metadata": {},
          "output_type": "display_data"
        }
      ]
    },
    {
      "cell_type": "code",
      "metadata": {
        "colab": {
          "base_uri": "https://localhost:8080/",
          "height": 312
        },
        "id": "unB3iHe6cEgt",
        "outputId": "a5697479-31f9-4731-a9ba-8e00f605319d"
      },
      "source": [
        "import sklearn.metrics as metrics\n",
        "# calculate the fpr and tpr for all thresholds of the classification\n",
        "probs = model_tuned.predict_proba(X_test)\n",
        "preds = probs[:,1]\n",
        "\n",
        "fpr, tpr, threshold = metrics.roc_curve(y_test, preds)\n",
        "roc_auc = metrics.auc(fpr, tpr)\n",
        "# method I: plt\n",
        "import matplotlib.pyplot as plt\n",
        "plt.title('Receiver Operating Characteristic')\n",
        "plt.plot(fpr, tpr, 'g',linewidth=3, label = 'AUC = %0.2f' % roc_auc)\n",
        "plt.legend(loc = 'lower right')\n",
        "plt.plot([0, 1], [0, 1],'r--')\n",
        "plt.xlim([0, 1])\n",
        "plt.ylim([0, 1])\n",
        "plt.ylabel('True Positive Rate')\n",
        "plt.xlabel('False Positive Rate')"
      ],
      "execution_count": null,
      "outputs": [
        {
          "data": {
            "text/plain": [
              "Text(0.5, 0, 'False Positive Rate')"
            ]
          },
          "execution_count": 152,
          "metadata": {},
          "output_type": "execute_result"
        },
        {
          "data": {
            "image/png": "[encoded data removed]",
            "text/plain": [
              "<Figure size 432x288 with 1 Axes>"
            ]
          },
          "metadata": {},
          "output_type": "display_data"
        }
      ]
    }
  ]
}